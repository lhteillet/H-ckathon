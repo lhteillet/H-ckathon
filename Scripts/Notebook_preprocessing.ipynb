{
  "cells": [
    {
      "cell_type": "markdown",
      "id": "Swsmjqsd1CBs",
      "metadata": {
        "id": "Swsmjqsd1CBs"
      },
      "source": [
        "## Imports"
      ]
    },
    {
      "cell_type": "code",
      "execution_count": null,
      "id": "HoULvx2MdANn",
      "metadata": {
        "id": "HoULvx2MdANn"
      },
      "outputs": [],
      "source": [
        "!pip install catboost"
      ]
    },
    {
      "cell_type": "code",
      "execution_count": 24,
      "id": "cd6bb2ab",
      "metadata": {
        "id": "cd6bb2ab"
      },
      "outputs": [],
      "source": [
        "import warnings\n",
        "warnings.filterwarnings('ignore')\n",
        "\n",
        "import pandas as pd\n",
        "import numpy as np\n",
        "import matplotlib.pyplot as plt\n",
        "from sklearn.compose import ColumnTransformer\n",
        "from sklearn.experimental import enable_iterative_imputer\n",
        "from sklearn.impute import IterativeImputer\n",
        "from sklearn.linear_model import Lasso\n",
        "from sklearn.preprocessing import StandardScaler\n",
        "from sklearn.preprocessing import RobustScaler\n",
        "from sklearn.preprocessing import OneHotEncoder\n",
        "from xgboost import XGBRegressor\n",
        "RANDOM_STATE = 42\n",
        "\n"
      ]
    },
    {
      "cell_type": "markdown",
      "id": "NEXw1-rYZDik",
      "metadata": {
        "id": "NEXw1-rYZDik"
      },
      "source": [
        "## Data Loading"
      ]
    },
    {
      "cell_type": "code",
      "execution_count": 3,
      "id": "54fa681d",
      "metadata": {
        "id": "54fa681d"
      },
      "outputs": [],
      "source": [
        "data = pd.read_csv(\"datasets_hi4/train-data.csv\", sep=\";\")"
      ]
    },
    {
      "cell_type": "code",
      "execution_count": 4,
      "id": "PTY4tWxWITSn",
      "metadata": {
        "id": "PTY4tWxWITSn"
      },
      "outputs": [],
      "source": [
        "# ADDITIONAL DATA\n",
        "gscpi = pd.read_csv(\"datasets_hi4/extra-dataset/GSCPI_data.csv\")\n",
        "lpi = pd.read_csv(\"datasets_hi4/extra-dataset/LPIextend.csv\")\n",
        "world_bank_economics = pd.read_csv(\"datasets_hi4/extra-dataset/worldbank_economic_data.csv\")\n",
        "world_bank_inflation = pd.read_csv(\"datasets_hi4/extra-dataset/worldbank_inflation_data.csv\")\n",
        "\n",
        "data['Cluster'].replace({\"USA\": \"United States\", 'Hong Kong & Macao': 'Hong Kong'}, inplace=True)\n",
        "# data = data.rename(columns={'Country': 'Country_index'})\n",
        "\n",
        "### adding gscpi data to the main dataframe\n",
        "data[\"Month 1_gscpi\"] = ''\n",
        "data[\"Month 2_gscpi\"] = ''\n",
        "data[\"Month 3_gscpi\"] = ''\n",
        "data[\"Month 4_gscpi\"] = ''\n",
        "\n",
        "data.loc[data[\"Date\"] == 'sep-dec 2020', \"Month 1_gscpi\"] = float(gscpi.loc[gscpi[\"Year-Month\"]==\"2020-09\", \"GSCPI\"])\n",
        "data.loc[data[\"Date\"] == 'sep-dec 2020', \"Month 2_gscpi\"] = float(gscpi.loc[gscpi[\"Year-Month\"]==\"2020-10\", \"GSCPI\"])\n",
        "data.loc[data[\"Date\"] == 'sep-dec 2020', \"Month 3_gscpi\"] = float(gscpi.loc[gscpi[\"Year-Month\"]==\"2020-11\", \"GSCPI\"])\n",
        "data.loc[data[\"Date\"] == 'sep-dec 2020', \"Month 4_gscpi\"] = float(gscpi.loc[gscpi[\"Year-Month\"]==\"2020-12\", \"GSCPI\"])\n",
        "\n",
        "data.loc[data[\"Date\"] == 'jan-apr 2021', \"Month 1_gscpi\"] = float(gscpi.loc[gscpi[\"Year-Month\"]==\"2021-01\", \"GSCPI\"])\n",
        "data.loc[data[\"Date\"] == 'jan-apr 2021', \"Month 2_gscpi\"] = float(gscpi.loc[gscpi[\"Year-Month\"]==\"2021-02\", \"GSCPI\"])\n",
        "data.loc[data[\"Date\"] == 'jan-apr 2021', \"Month 3_gscpi\"] = float(gscpi.loc[gscpi[\"Year-Month\"]==\"2021-03\", \"GSCPI\"])\n",
        "data.loc[data[\"Date\"] == 'jan-apr 2021', \"Month 4_gscpi\"] = float(gscpi.loc[gscpi[\"Year-Month\"]==\"2021-04\", \"GSCPI\"])\n",
        "\n",
        "data.loc[data[\"Date\"] == 'may-aug 2021', \"Month 1_gscpi\"] = float(gscpi.loc[gscpi[\"Year-Month\"]==\"2021-05\", \"GSCPI\"])\n",
        "data.loc[data[\"Date\"] == 'may-aug 2021', \"Month 2_gscpi\"] = float(gscpi.loc[gscpi[\"Year-Month\"]==\"2021-06\", \"GSCPI\"])\n",
        "data.loc[data[\"Date\"] == 'may-aug 2021', \"Month 3_gscpi\"] = float(gscpi.loc[gscpi[\"Year-Month\"]==\"2021-07\", \"GSCPI\"])\n",
        "data.loc[data[\"Date\"] == 'may-aug 2021', \"Month 4_gscpi\"] = float(gscpi.loc[gscpi[\"Year-Month\"]==\"2021-08\", \"GSCPI\"])\n",
        "\n",
        "data.loc[data[\"Date\"] == 'sep-dec 2021', \"Month 1_gscpi\"] = float(gscpi.loc[gscpi[\"Year-Month\"]==\"2021-09\", \"GSCPI\"])\n",
        "data.loc[data[\"Date\"] == 'sep-dec 2021', \"Month 2_gscpi\"] = float(gscpi.loc[gscpi[\"Year-Month\"]==\"2021-10\", \"GSCPI\"])\n",
        "data.loc[data[\"Date\"] == 'sep-dec 2021', \"Month 3_gscpi\"] = float(gscpi.loc[gscpi[\"Year-Month\"]==\"2021-11\", \"GSCPI\"])\n",
        "data.loc[data[\"Date\"] == 'sep-dec 2021', \"Month 4_gscpi\"] = float(gscpi.loc[gscpi[\"Year-Month\"]==\"2021-12\", \"GSCPI\"])\n",
        "\n",
        "data.loc[data[\"Date\"] == 'jan-apr 2022', \"Month 1_gscpi\"] = float(gscpi.loc[gscpi[\"Year-Month\"]==\"2022-01\", \"GSCPI\"])\n",
        "data.loc[data[\"Date\"] == 'jan-apr 2022', \"Month 2_gscpi\"] = float(gscpi.loc[gscpi[\"Year-Month\"]==\"2022-02\", \"GSCPI\"])\n",
        "data.loc[data[\"Date\"] == 'jan-apr 2022', \"Month 3_gscpi\"] = float(gscpi.loc[gscpi[\"Year-Month\"]==\"2022-03\", \"GSCPI\"])\n",
        "data.loc[data[\"Date\"] == 'jan-apr 2022', \"Month 4_gscpi\"] = float(gscpi.loc[gscpi[\"Year-Month\"]==\"2022-04\", \"GSCPI\"])\n",
        "\n",
        "data.loc[data[\"Date\"] == 'may-aug 2022', \"Month 1_gscpi\"] = float(gscpi.loc[gscpi[\"Year-Month\"]==\"2022-05\", \"GSCPI\"])\n",
        "data.loc[data[\"Date\"] == 'may-aug 2022', \"Month 2_gscpi\"] = float(gscpi.loc[gscpi[\"Year-Month\"]==\"2022-06\", \"GSCPI\"])\n",
        "data.loc[data[\"Date\"] == 'may-aug 2022', \"Month 3_gscpi\"] = float(gscpi.loc[gscpi[\"Year-Month\"]==\"2022-07\", \"GSCPI\"])\n",
        "data.loc[data[\"Date\"] == 'may-aug 2022', \"Month 4_gscpi\"] = float(gscpi.loc[gscpi[\"Year-Month\"]==\"2022-08\", \"GSCPI\"])\n",
        "\n",
        "data.loc[data[\"Date\"] == 'sep-dec 2022', \"Month 1_gscpi\"] = float(gscpi.loc[gscpi[\"Year-Month\"]==\"2022-09\", \"GSCPI\"])\n",
        "data.loc[data[\"Date\"] == 'sep-dec 2022', \"Month 2_gscpi\"] = float(gscpi.loc[gscpi[\"Year-Month\"]==\"2022-10\", \"GSCPI\"])\n",
        "data.loc[data[\"Date\"] == 'sep-dec 2022', \"Month 3_gscpi\"] = float(gscpi.loc[gscpi[\"Year-Month\"]==\"2022-11\", \"GSCPI\"])\n",
        "data.loc[data[\"Date\"] == 'sep-dec 2022', \"Month 4_gscpi\"] = float(gscpi.loc[gscpi[\"Year-Month\"]==\"2022-12\", \"GSCPI\"])\n",
        "\n",
        "data.loc[data[\"Date\"] == 'jan-apr 2023', \"Month 1_gscpi\"] = float(gscpi.loc[gscpi[\"Year-Month\"]==\"2023-01\", \"GSCPI\"])\n",
        "data.loc[data[\"Date\"] == 'jan-apr 2023', \"Month 2_gscpi\"] = float(gscpi.loc[gscpi[\"Year-Month\"]==\"2023-02\", \"GSCPI\"])\n",
        "data.loc[data[\"Date\"] == 'jan-apr 2023', \"Month 3_gscpi\"] = float(gscpi.loc[gscpi[\"Year-Month\"]==\"2023-03\", \"GSCPI\"])\n",
        "data.loc[data[\"Date\"] == 'jan-apr 2023', \"Month 4_gscpi\"] = float(gscpi.loc[gscpi[\"Year-Month\"]==\"2023-04\", \"GSCPI\"])\n",
        "\n",
        "data.loc[data[\"Date\"] == 'may-jul 2023', \"Month 1_gscpi\"] = float(gscpi.loc[gscpi[\"Year-Month\"]==\"2023-05\", \"GSCPI\"])\n",
        "data.loc[data[\"Date\"] == 'may-jul 2023', \"Month 2_gscpi\"] = float(gscpi.loc[gscpi[\"Year-Month\"]==\"2023-06\", \"GSCPI\"])\n",
        "data.loc[data[\"Date\"] == 'may-jul 2023', \"Month 3_gscpi\"] = float(gscpi.loc[gscpi[\"Year-Month\"]==\"2023-07\", \"GSCPI\"])\n",
        "\n",
        "###  adding LPIextend data to the main dataset\n",
        "lpi = lpi[[\"Country\", \"population (2023)\", \"area\", 'landAreaKm', 'unMember', 'growthRate', 'worldPercentage',\n",
        "          \"density\"]]\n",
        "data = data.merge(lpi, how='left', left_on=\"Cluster\", right_on=\"Country\")\n",
        "\n",
        "###   adding world_bank_economic data to the main dataset\n",
        "world_bank_economics = world_bank_economics[[\"Country\", \"Year\", \"Agriculture, forestry, and fishing, value added (annual % growth)\",\n",
        "                                            'Exports of goods and services (annual % growth)',\n",
        "                                            'Final consumption expenditure (annual % growth)',\n",
        "                                            'GDP (current US$)',\n",
        "                                            'Gross capital formation (annual % growth)',\n",
        "                                            'Imports of goods and services (annual % growth)',\n",
        "                                            'Industry (including construction), value added (annual % growth)']]\n",
        "\n",
        "world_bank_economics['Agriculture, forestry, and fishing, value added (annual % growth)'] = world_bank_economics.groupby('Country')['Agriculture, forestry, and fishing, value added (annual % growth)'].apply(lambda x: x.mask(world_bank_economics['Year'] == 2023, x[world_bank_economics['Year'] == 2022].values))\n",
        "world_bank_economics['Exports of goods and services (annual % growth)'] = world_bank_economics.groupby('Country')['Exports of goods and services (annual % growth)'].apply(lambda x: x.mask(world_bank_economics['Year'] == 2023, x[world_bank_economics['Year'] == 2022].values))\n",
        "world_bank_economics['Final consumption expenditure (annual % growth)'] = world_bank_economics.groupby('Country')['Final consumption expenditure (annual % growth)'].apply(lambda x: x.mask(world_bank_economics['Year'] == 2023, x[world_bank_economics['Year'] == 2022].values))\n",
        "world_bank_economics['GDP (current US$)'] = world_bank_economics.groupby('Country')['GDP (current US$)'].apply(lambda x: x.mask(world_bank_economics['Year'] == 2023, x[world_bank_economics['Year'] == 2022].values))\n",
        "world_bank_economics['Gross capital formation (annual % growth)'] = world_bank_economics.groupby('Country')['Gross capital formation (annual % growth)'].apply(lambda x: x.mask(world_bank_economics['Year'] == 2023, x[world_bank_economics['Year'] == 2022].values))\n",
        "world_bank_economics['Imports of goods and services (annual % growth)'] = world_bank_economics.groupby('Country')['Imports of goods and services (annual % growth)'].apply(lambda x: x.mask(world_bank_economics['Year'] == 2023, x[world_bank_economics['Year'] == 2022].values))\n",
        "world_bank_economics['Industry (including construction), value added (annual % growth)'] = world_bank_economics.groupby('Country')['Industry (including construction), value added (annual % growth)'].apply(lambda x: x.mask(world_bank_economics['Year'] == 2023, x[world_bank_economics['Year'] == 2022].values))\n",
        "\n",
        "\n",
        "data['Year'] = data['Date'].str.extract(r'(\\d{4})')\n",
        "\n",
        "data = data.rename(columns={'Cluster': 'Country'})\n",
        "\n",
        "data['Year'] = data['Year'].astype(int)\n",
        "\n",
        "data = pd.merge(data, world_bank_economics, how='left', on=['Country', 'Year'])\n",
        "\n",
        "###  adding world bank inflation to the main data frame\n",
        "###  we only keep some months (one month per period date) and we do the equivalence with the appropriate\n",
        "###  date\n",
        "world_bank_inflation = world_bank_inflation.loc[(world_bank_inflation[\"Year-Month\"] == \"2020-11\") |\n",
        "                                                (world_bank_inflation[\"Year-Month\"] == \"2023-03\") |\n",
        "                                                (world_bank_inflation[\"Year-Month\"] == \"2021-07\") |\n",
        "                                                (world_bank_inflation[\"Year-Month\"] == \"2022-03\") |\n",
        "                                                (world_bank_inflation[\"Year-Month\"] == \"2021-11\") |\n",
        "                                                (world_bank_inflation[\"Year-Month\"] == \"2021-03\") |\n",
        "                                                (world_bank_inflation[\"Year-Month\"] == \"2022-11\") |\n",
        "                                                (world_bank_inflation[\"Year-Month\"] == \"2022-07\") |\n",
        "                                                (world_bank_inflation[\"Year-Month\"] == \"2023-06\")]\n",
        "\n",
        "world_bank_inflation.loc[world_bank_inflation[\"Year-Month\"] == \"2020-11\", \"Year-Month\"] = \"sep-dec 2020\"\n",
        "world_bank_inflation.loc[world_bank_inflation[\"Year-Month\"] == \"2023-03\", \"Year-Month\"] = \"jan-apr 2023\"\n",
        "world_bank_inflation.loc[world_bank_inflation[\"Year-Month\"] == \"2021-07\", \"Year-Month\"] = \"may-aug 2021\"\n",
        "world_bank_inflation.loc[world_bank_inflation[\"Year-Month\"] == \"2022-03\", \"Year-Month\"] = \"jan-apr 2022\"\n",
        "world_bank_inflation.loc[world_bank_inflation[\"Year-Month\"] == \"2021-11\", \"Year-Month\"] = \"sep-dec 2021\"\n",
        "world_bank_inflation.loc[world_bank_inflation[\"Year-Month\"] == \"2021-03\", \"Year-Month\"] = \"jan-apr 2021\"\n",
        "world_bank_inflation.loc[world_bank_inflation[\"Year-Month\"] == \"2022-11\", \"Year-Month\"] = \"sep-dec 2022\"\n",
        "world_bank_inflation.loc[world_bank_inflation[\"Year-Month\"] == \"2022-07\", \"Year-Month\"] = \"may-aug 2022\"\n",
        "world_bank_inflation.loc[world_bank_inflation[\"Year-Month\"] == \"2023-06\", \"Year-Month\"] = \"may-jul 2023\"\n",
        "\n",
        "world_bank_inflation = world_bank_inflation.rename(columns={'Year-Month': 'Date'})\n",
        "\n",
        "data = pd.merge(data, world_bank_inflation, how='left', on=['Country', 'Date'])"
      ]
    },
    {
      "cell_type": "code",
      "execution_count": 5,
      "id": "f10d4048",
      "metadata": {
        "id": "f10d4048"
      },
      "outputs": [
        {
          "data": {
            "text/html": [
              "<div>\n",
              "<style scoped>\n",
              "    .dataframe tbody tr th:only-of-type {\n",
              "        vertical-align: middle;\n",
              "    }\n",
              "\n",
              "    .dataframe tbody tr th {\n",
              "        vertical-align: top;\n",
              "    }\n",
              "\n",
              "    .dataframe thead th {\n",
              "        text-align: right;\n",
              "    }\n",
              "</style>\n",
              "<table border=\"1\" class=\"dataframe\">\n",
              "  <thead>\n",
              "    <tr style=\"text-align: right;\">\n",
              "      <th></th>\n",
              "      <th>index</th>\n",
              "      <th>id_product</th>\n",
              "      <th>Region</th>\n",
              "      <th>Country_x</th>\n",
              "      <th>Site</th>\n",
              "      <th>Operations</th>\n",
              "      <th>Zone</th>\n",
              "      <th>Country</th>\n",
              "      <th>Reference proxy</th>\n",
              "      <th>Product  Line proxy</th>\n",
              "      <th>...</th>\n",
              "      <th>Year</th>\n",
              "      <th>Agriculture, forestry, and fishing, value added (annual % growth)</th>\n",
              "      <th>Exports of goods and services (annual % growth)</th>\n",
              "      <th>Final consumption expenditure (annual % growth)</th>\n",
              "      <th>GDP (current US$)</th>\n",
              "      <th>Gross capital formation (annual % growth)</th>\n",
              "      <th>Imports of goods and services (annual % growth)</th>\n",
              "      <th>Industry (including construction), value added (annual % growth)</th>\n",
              "      <th>Energy Price Index</th>\n",
              "      <th>Headline Consumer Price Index</th>\n",
              "    </tr>\n",
              "  </thead>\n",
              "  <tbody>\n",
              "    <tr>\n",
              "      <th>0</th>\n",
              "      <td>645874</td>\n",
              "      <td>156160</td>\n",
              "      <td>EUROPE</td>\n",
              "      <td>DE</td>\n",
              "      <td>NL_DC_Venray</td>\n",
              "      <td>Europe Operations</td>\n",
              "      <td>DACH</td>\n",
              "      <td>Germany</td>\n",
              "      <td>reference-13523</td>\n",
              "      <td>Product Line-4</td>\n",
              "      <td>...</td>\n",
              "      <td>2021</td>\n",
              "      <td>1.61</td>\n",
              "      <td>9.71</td>\n",
              "      <td>1.44</td>\n",
              "      <td>4.259935e+12</td>\n",
              "      <td>3.50</td>\n",
              "      <td>9.00</td>\n",
              "      <td>3.61</td>\n",
              "      <td>109.501</td>\n",
              "      <td>109.013000</td>\n",
              "    </tr>\n",
              "    <tr>\n",
              "      <th>1</th>\n",
              "      <td>469488</td>\n",
              "      <td>224631</td>\n",
              "      <td>CHINA</td>\n",
              "      <td>CN</td>\n",
              "      <td>CN_DC_Shanghai</td>\n",
              "      <td>China Operations</td>\n",
              "      <td>China &amp; HK</td>\n",
              "      <td>China</td>\n",
              "      <td>reference-12778</td>\n",
              "      <td>Product Line-4</td>\n",
              "      <td>...</td>\n",
              "      <td>2021</td>\n",
              "      <td>7.07</td>\n",
              "      <td>NaN</td>\n",
              "      <td>9.08</td>\n",
              "      <td>1.782046e+13</td>\n",
              "      <td>3.87</td>\n",
              "      <td>NaN</td>\n",
              "      <td>8.67</td>\n",
              "      <td>100.900</td>\n",
              "      <td>129.473043</td>\n",
              "    </tr>\n",
              "    <tr>\n",
              "      <th>2</th>\n",
              "      <td>348904</td>\n",
              "      <td>104047</td>\n",
              "      <td>EUROPE</td>\n",
              "      <td>GB</td>\n",
              "      <td>NL_DC_HLD</td>\n",
              "      <td>Europe Operations</td>\n",
              "      <td>UK and Ireland</td>\n",
              "      <td>United Kingdom</td>\n",
              "      <td>reference-3513</td>\n",
              "      <td>Product Line-3</td>\n",
              "      <td>...</td>\n",
              "      <td>2021</td>\n",
              "      <td>6.19</td>\n",
              "      <td>2.24</td>\n",
              "      <td>7.76</td>\n",
              "      <td>3.122480e+12</td>\n",
              "      <td>13.98</td>\n",
              "      <td>6.19</td>\n",
              "      <td>9.29</td>\n",
              "      <td>106.500</td>\n",
              "      <td>109.700000</td>\n",
              "    </tr>\n",
              "    <tr>\n",
              "      <th>3</th>\n",
              "      <td>1725822</td>\n",
              "      <td>11823</td>\n",
              "      <td>EAJP</td>\n",
              "      <td>AU</td>\n",
              "      <td>AU_DC_Perth</td>\n",
              "      <td>International Operations</td>\n",
              "      <td>Pacific</td>\n",
              "      <td>Australia</td>\n",
              "      <td>reference-672</td>\n",
              "      <td>Product Line-1</td>\n",
              "      <td>...</td>\n",
              "      <td>2023</td>\n",
              "      <td>23.40</td>\n",
              "      <td>-0.10</td>\n",
              "      <td>4.71</td>\n",
              "      <td>1.675419e+12</td>\n",
              "      <td>NaN</td>\n",
              "      <td>7.08</td>\n",
              "      <td>1.67</td>\n",
              "      <td>NaN</td>\n",
              "      <td>NaN</td>\n",
              "    </tr>\n",
              "    <tr>\n",
              "      <th>4</th>\n",
              "      <td>404781</td>\n",
              "      <td>159924</td>\n",
              "      <td>EUROPE</td>\n",
              "      <td>ES</td>\n",
              "      <td>NL_DC_HLD</td>\n",
              "      <td>Europe Operations</td>\n",
              "      <td>Iberia</td>\n",
              "      <td>Spain</td>\n",
              "      <td>reference-3496</td>\n",
              "      <td>Product Line-3</td>\n",
              "      <td>...</td>\n",
              "      <td>2021</td>\n",
              "      <td>2.07</td>\n",
              "      <td>14.38</td>\n",
              "      <td>5.09</td>\n",
              "      <td>1.427381e+12</td>\n",
              "      <td>5.86</td>\n",
              "      <td>13.92</td>\n",
              "      <td>4.03</td>\n",
              "      <td>102.303</td>\n",
              "      <td>104.900000</td>\n",
              "    </tr>\n",
              "    <tr>\n",
              "      <th>...</th>\n",
              "      <td>...</td>\n",
              "      <td>...</td>\n",
              "      <td>...</td>\n",
              "      <td>...</td>\n",
              "      <td>...</td>\n",
              "      <td>...</td>\n",
              "      <td>...</td>\n",
              "      <td>...</td>\n",
              "      <td>...</td>\n",
              "      <td>...</td>\n",
              "      <td>...</td>\n",
              "      <td>...</td>\n",
              "      <td>...</td>\n",
              "      <td>...</td>\n",
              "      <td>...</td>\n",
              "      <td>...</td>\n",
              "      <td>...</td>\n",
              "      <td>...</td>\n",
              "      <td>...</td>\n",
              "      <td>...</td>\n",
              "      <td>...</td>\n",
              "    </tr>\n",
              "    <tr>\n",
              "      <th>3173341</th>\n",
              "      <td>1285020</td>\n",
              "      <td>60735</td>\n",
              "      <td>NAM</td>\n",
              "      <td>US</td>\n",
              "      <td>US_DC_Mechanicsburg</td>\n",
              "      <td>North America Operations</td>\n",
              "      <td>US</td>\n",
              "      <td>United States</td>\n",
              "      <td>reference-6024</td>\n",
              "      <td>Product Line-4</td>\n",
              "      <td>...</td>\n",
              "      <td>2022</td>\n",
              "      <td>NaN</td>\n",
              "      <td>NaN</td>\n",
              "      <td>NaN</td>\n",
              "      <td>2.546270e+13</td>\n",
              "      <td>NaN</td>\n",
              "      <td>NaN</td>\n",
              "      <td>NaN</td>\n",
              "      <td>160.382</td>\n",
              "      <td>125.000000</td>\n",
              "    </tr>\n",
              "    <tr>\n",
              "      <th>3173342</th>\n",
              "      <td>1527076</td>\n",
              "      <td>57934</td>\n",
              "      <td>NAM</td>\n",
              "      <td>US</td>\n",
              "      <td>US_DC_Athens</td>\n",
              "      <td>North America Operations</td>\n",
              "      <td>US</td>\n",
              "      <td>United States</td>\n",
              "      <td>reference-5672</td>\n",
              "      <td>Product Line-4</td>\n",
              "      <td>...</td>\n",
              "      <td>2022</td>\n",
              "      <td>NaN</td>\n",
              "      <td>NaN</td>\n",
              "      <td>NaN</td>\n",
              "      <td>2.546270e+13</td>\n",
              "      <td>NaN</td>\n",
              "      <td>NaN</td>\n",
              "      <td>NaN</td>\n",
              "      <td>144.387</td>\n",
              "      <td>125.600000</td>\n",
              "    </tr>\n",
              "    <tr>\n",
              "      <th>3173343</th>\n",
              "      <td>306473</td>\n",
              "      <td>61616</td>\n",
              "      <td>NAM</td>\n",
              "      <td>US</td>\n",
              "      <td>US_DC_Mechanicsburg</td>\n",
              "      <td>North America Operations</td>\n",
              "      <td>US</td>\n",
              "      <td>United States</td>\n",
              "      <td>reference-6241</td>\n",
              "      <td>Product Line-4</td>\n",
              "      <td>...</td>\n",
              "      <td>2021</td>\n",
              "      <td>-19.48</td>\n",
              "      <td>6.05</td>\n",
              "      <td>7.01</td>\n",
              "      <td>2.331508e+13</td>\n",
              "      <td>6.94</td>\n",
              "      <td>14.13</td>\n",
              "      <td>3.25</td>\n",
              "      <td>111.319</td>\n",
              "      <td>111.800000</td>\n",
              "    </tr>\n",
              "    <tr>\n",
              "      <th>3173344</th>\n",
              "      <td>205624</td>\n",
              "      <td>205624</td>\n",
              "      <td>EUROPE</td>\n",
              "      <td>FR</td>\n",
              "      <td>FR_DC_Evreux</td>\n",
              "      <td>France Operations</td>\n",
              "      <td>France</td>\n",
              "      <td>France</td>\n",
              "      <td>reference-11174</td>\n",
              "      <td>Product Line-4</td>\n",
              "      <td>...</td>\n",
              "      <td>2020</td>\n",
              "      <td>-6.28</td>\n",
              "      <td>-16.83</td>\n",
              "      <td>-5.90</td>\n",
              "      <td>2.639009e+12</td>\n",
              "      <td>-8.66</td>\n",
              "      <td>-12.79</td>\n",
              "      <td>-11.61</td>\n",
              "      <td>106.779</td>\n",
              "      <td>104.700000</td>\n",
              "    </tr>\n",
              "    <tr>\n",
              "      <th>3173345</th>\n",
              "      <td>889008</td>\n",
              "      <td>154437</td>\n",
              "      <td>EUROPE</td>\n",
              "      <td>DE</td>\n",
              "      <td>NL_DC_Venray</td>\n",
              "      <td>Europe Operations</td>\n",
              "      <td>DACH</td>\n",
              "      <td>Germany</td>\n",
              "      <td>reference-15885</td>\n",
              "      <td>Product Line-4</td>\n",
              "      <td>...</td>\n",
              "      <td>2021</td>\n",
              "      <td>1.61</td>\n",
              "      <td>9.71</td>\n",
              "      <td>1.44</td>\n",
              "      <td>4.259935e+12</td>\n",
              "      <td>3.50</td>\n",
              "      <td>9.00</td>\n",
              "      <td>3.61</td>\n",
              "      <td>117.055</td>\n",
              "      <td>110.173000</td>\n",
              "    </tr>\n",
              "  </tbody>\n",
              "</table>\n",
              "<p>3173346 rows × 41 columns</p>\n",
              "</div>"
            ],
            "text/plain": [
              "           index  id_product  Region Country_x                 Site  \\\n",
              "0         645874      156160  EUROPE        DE         NL_DC_Venray   \n",
              "1         469488      224631   CHINA        CN       CN_DC_Shanghai   \n",
              "2         348904      104047  EUROPE        GB            NL_DC_HLD   \n",
              "3        1725822       11823    EAJP        AU          AU_DC_Perth   \n",
              "4         404781      159924  EUROPE        ES            NL_DC_HLD   \n",
              "...          ...         ...     ...       ...                  ...   \n",
              "3173341  1285020       60735     NAM        US  US_DC_Mechanicsburg   \n",
              "3173342  1527076       57934     NAM        US         US_DC_Athens   \n",
              "3173343   306473       61616     NAM        US  US_DC_Mechanicsburg   \n",
              "3173344   205624      205624  EUROPE        FR         FR_DC_Evreux   \n",
              "3173345   889008      154437  EUROPE        DE         NL_DC_Venray   \n",
              "\n",
              "                       Operations            Zone         Country  \\\n",
              "0               Europe Operations            DACH         Germany   \n",
              "1                China Operations      China & HK           China   \n",
              "2               Europe Operations  UK and Ireland  United Kingdom   \n",
              "3        International Operations         Pacific       Australia   \n",
              "4               Europe Operations          Iberia           Spain   \n",
              "...                           ...             ...             ...   \n",
              "3173341  North America Operations              US   United States   \n",
              "3173342  North America Operations              US   United States   \n",
              "3173343  North America Operations              US   United States   \n",
              "3173344         France Operations          France          France   \n",
              "3173345         Europe Operations            DACH         Germany   \n",
              "\n",
              "         Reference proxy Product  Line proxy  ...  Year  \\\n",
              "0        reference-13523      Product Line-4  ...  2021   \n",
              "1        reference-12778      Product Line-4  ...  2021   \n",
              "2         reference-3513      Product Line-3  ...  2021   \n",
              "3          reference-672      Product Line-1  ...  2023   \n",
              "4         reference-3496      Product Line-3  ...  2021   \n",
              "...                  ...                 ...  ...   ...   \n",
              "3173341   reference-6024      Product Line-4  ...  2022   \n",
              "3173342   reference-5672      Product Line-4  ...  2022   \n",
              "3173343   reference-6241      Product Line-4  ...  2021   \n",
              "3173344  reference-11174      Product Line-4  ...  2020   \n",
              "3173345  reference-15885      Product Line-4  ...  2021   \n",
              "\n",
              "        Agriculture, forestry, and fishing, value added (annual % growth)  \\\n",
              "0                                                     1.61                  \n",
              "1                                                     7.07                  \n",
              "2                                                     6.19                  \n",
              "3                                                    23.40                  \n",
              "4                                                     2.07                  \n",
              "...                                                    ...                  \n",
              "3173341                                                NaN                  \n",
              "3173342                                                NaN                  \n",
              "3173343                                             -19.48                  \n",
              "3173344                                              -6.28                  \n",
              "3173345                                               1.61                  \n",
              "\n",
              "        Exports of goods and services (annual % growth)  \\\n",
              "0                                                  9.71   \n",
              "1                                                   NaN   \n",
              "2                                                  2.24   \n",
              "3                                                 -0.10   \n",
              "4                                                 14.38   \n",
              "...                                                 ...   \n",
              "3173341                                             NaN   \n",
              "3173342                                             NaN   \n",
              "3173343                                            6.05   \n",
              "3173344                                          -16.83   \n",
              "3173345                                            9.71   \n",
              "\n",
              "        Final consumption expenditure (annual % growth) GDP (current US$)  \\\n",
              "0                                                  1.44      4.259935e+12   \n",
              "1                                                  9.08      1.782046e+13   \n",
              "2                                                  7.76      3.122480e+12   \n",
              "3                                                  4.71      1.675419e+12   \n",
              "4                                                  5.09      1.427381e+12   \n",
              "...                                                 ...               ...   \n",
              "3173341                                             NaN      2.546270e+13   \n",
              "3173342                                             NaN      2.546270e+13   \n",
              "3173343                                            7.01      2.331508e+13   \n",
              "3173344                                           -5.90      2.639009e+12   \n",
              "3173345                                            1.44      4.259935e+12   \n",
              "\n",
              "        Gross capital formation (annual % growth)  \\\n",
              "0                                            3.50   \n",
              "1                                            3.87   \n",
              "2                                           13.98   \n",
              "3                                             NaN   \n",
              "4                                            5.86   \n",
              "...                                           ...   \n",
              "3173341                                       NaN   \n",
              "3173342                                       NaN   \n",
              "3173343                                      6.94   \n",
              "3173344                                     -8.66   \n",
              "3173345                                      3.50   \n",
              "\n",
              "        Imports of goods and services (annual % growth)  \\\n",
              "0                                                  9.00   \n",
              "1                                                   NaN   \n",
              "2                                                  6.19   \n",
              "3                                                  7.08   \n",
              "4                                                 13.92   \n",
              "...                                                 ...   \n",
              "3173341                                             NaN   \n",
              "3173342                                             NaN   \n",
              "3173343                                           14.13   \n",
              "3173344                                          -12.79   \n",
              "3173345                                            9.00   \n",
              "\n",
              "        Industry (including construction), value added (annual % growth)  \\\n",
              "0                                                     3.61                 \n",
              "1                                                     8.67                 \n",
              "2                                                     9.29                 \n",
              "3                                                     1.67                 \n",
              "4                                                     4.03                 \n",
              "...                                                    ...                 \n",
              "3173341                                                NaN                 \n",
              "3173342                                                NaN                 \n",
              "3173343                                               3.25                 \n",
              "3173344                                             -11.61                 \n",
              "3173345                                               3.61                 \n",
              "\n",
              "        Energy Price Index Headline Consumer Price Index  \n",
              "0                  109.501                    109.013000  \n",
              "1                  100.900                    129.473043  \n",
              "2                  106.500                    109.700000  \n",
              "3                      NaN                           NaN  \n",
              "4                  102.303                    104.900000  \n",
              "...                    ...                           ...  \n",
              "3173341            160.382                    125.000000  \n",
              "3173342            144.387                    125.600000  \n",
              "3173343            111.319                    111.800000  \n",
              "3173344            106.779                    104.700000  \n",
              "3173345            117.055                    110.173000  \n",
              "\n",
              "[3173346 rows x 41 columns]"
            ]
          },
          "execution_count": 5,
          "metadata": {},
          "output_type": "execute_result"
        }
      ],
      "source": [
        "data"
      ]
    },
    {
      "cell_type": "code",
      "execution_count": 6,
      "id": "ff672941",
      "metadata": {
        "id": "ff672941"
      },
      "outputs": [
        {
          "data": {
            "text/plain": [
              "Index(['index', 'id_product', 'Region', 'Country_x', 'Site', 'Operations',\n",
              "       'Zone', 'Country', 'Reference proxy', 'Product  Line proxy',\n",
              "       'Division proxy', 'Customer Persona proxy',\n",
              "       'Strategic Product Family proxy', 'Product Life cycel status', 'Date',\n",
              "       'Month 1', 'Month 2', 'Month 3', 'Month 4', 'Month 1_gscpi',\n",
              "       'Month 2_gscpi', 'Month 3_gscpi', 'Month 4_gscpi', 'Country_y',\n",
              "       'population (2023)', 'area', 'landAreaKm', 'unMember', 'growthRate',\n",
              "       'worldPercentage', 'density', 'Year',\n",
              "       'Agriculture, forestry, and fishing, value added (annual % growth)',\n",
              "       'Exports of goods and services (annual % growth)',\n",
              "       'Final consumption expenditure (annual % growth)', 'GDP (current US$)',\n",
              "       'Gross capital formation (annual % growth)',\n",
              "       'Imports of goods and services (annual % growth)',\n",
              "       'Industry (including construction), value added (annual % growth)',\n",
              "       'Energy Price Index', 'Headline Consumer Price Index'],\n",
              "      dtype='object')"
            ]
          },
          "execution_count": 6,
          "metadata": {},
          "output_type": "execute_result"
        }
      ],
      "source": [
        "data.columns"
      ]
    },
    {
      "cell_type": "code",
      "execution_count": 7,
      "id": "cb81eb0b",
      "metadata": {
        "id": "cb81eb0b",
        "scrolled": true
      },
      "outputs": [
        {
          "name": "stdout",
          "output_type": "stream",
          "text": [
            "<class 'pandas.core.frame.DataFrame'>\n",
            "Int64Index: 3173346 entries, 0 to 3173345\n",
            "Data columns (total 41 columns):\n",
            " #   Column                                                             Dtype  \n",
            "---  ------                                                             -----  \n",
            " 0   index                                                              int64  \n",
            " 1   id_product                                                         int64  \n",
            " 2   Region                                                             object \n",
            " 3   Country_x                                                          object \n",
            " 4   Site                                                               object \n",
            " 5   Operations                                                         object \n",
            " 6   Zone                                                               object \n",
            " 7   Country                                                            object \n",
            " 8   Reference proxy                                                    object \n",
            " 9   Product  Line proxy                                                object \n",
            " 10  Division proxy                                                     object \n",
            " 11  Customer Persona proxy                                             object \n",
            " 12  Strategic Product Family proxy                                     object \n",
            " 13  Product Life cycel status                                          object \n",
            " 14  Date                                                               object \n",
            " 15  Month 1                                                            object \n",
            " 16  Month 2                                                            object \n",
            " 17  Month 3                                                            object \n",
            " 18  Month 4                                                            object \n",
            " 19  Month 1_gscpi                                                      object \n",
            " 20  Month 2_gscpi                                                      object \n",
            " 21  Month 3_gscpi                                                      object \n",
            " 22  Month 4_gscpi                                                      object \n",
            " 23  Country_y                                                          object \n",
            " 24  population (2023)                                                  float64\n",
            " 25  area                                                               float64\n",
            " 26  landAreaKm                                                         float64\n",
            " 27  unMember                                                           object \n",
            " 28  growthRate                                                         float64\n",
            " 29  worldPercentage                                                    float64\n",
            " 30  density                                                            float64\n",
            " 31  Year                                                               int32  \n",
            " 32  Agriculture, forestry, and fishing, value added (annual % growth)  float64\n",
            " 33  Exports of goods and services (annual % growth)                    float64\n",
            " 34  Final consumption expenditure (annual % growth)                    float64\n",
            " 35  GDP (current US$)                                                  float64\n",
            " 36  Gross capital formation (annual % growth)                          float64\n",
            " 37  Imports of goods and services (annual % growth)                    float64\n",
            " 38  Industry (including construction), value added (annual % growth)   float64\n",
            " 39  Energy Price Index                                                 float64\n",
            " 40  Headline Consumer Price Index                                      float64\n",
            "dtypes: float64(15), int32(1), int64(2), object(23)\n",
            "memory usage: 1004.7+ MB\n"
          ]
        }
      ],
      "source": [
        "data.info()"
      ]
    },
    {
      "cell_type": "code",
      "execution_count": 8,
      "id": "94b47b7f",
      "metadata": {
        "id": "94b47b7f"
      },
      "outputs": [
        {
          "data": {
            "text/plain": [
              "index                                                                      0\n",
              "id_product                                                                 0\n",
              "Region                                                                     0\n",
              "Country_x                                                                  0\n",
              "Site                                                                       0\n",
              "Operations                                                                 0\n",
              "Zone                                                                       0\n",
              "Country                                                                    0\n",
              "Reference proxy                                                            0\n",
              "Product  Line proxy                                                        0\n",
              "Division proxy                                                             0\n",
              "Customer Persona proxy                                                     0\n",
              "Strategic Product Family proxy                                             0\n",
              "Product Life cycel status                                            2742544\n",
              "Date                                                                       0\n",
              "Month 1                                                               352330\n",
              "Month 2                                                                    0\n",
              "Month 3                                                                    0\n",
              "Month 4                                                                    0\n",
              "Month 1_gscpi                                                              0\n",
              "Month 2_gscpi                                                              0\n",
              "Month 3_gscpi                                                              0\n",
              "Month 4_gscpi                                                              0\n",
              "Country_y                                                             266402\n",
              "population (2023)                                                     266402\n",
              "area                                                                  266402\n",
              "landAreaKm                                                            266402\n",
              "unMember                                                              266402\n",
              "growthRate                                                            266402\n",
              "worldPercentage                                                       266402\n",
              "density                                                               266402\n",
              "Year                                                                       0\n",
              "Agriculture, forestry, and fishing, value added (annual % growth)     600893\n",
              "Exports of goods and services (annual % growth)                       891940\n",
              "Final consumption expenditure (annual % growth)                       600893\n",
              "GDP (current US$)                                                     266402\n",
              "Gross capital formation (annual % growth)                            1096605\n",
              "Imports of goods and services (annual % growth)                       891940\n",
              "Industry (including construction), value added (annual % growth)      600893\n",
              "Energy Price Index                                                   1062810\n",
              "Headline Consumer Price Index                                        1062810\n",
              "dtype: int64"
            ]
          },
          "execution_count": 8,
          "metadata": {},
          "output_type": "execute_result"
        }
      ],
      "source": [
        "data.isna().sum()"
      ]
    },
    {
      "cell_type": "markdown",
      "id": "QbthT7ZWZL2M",
      "metadata": {
        "id": "QbthT7ZWZL2M"
      },
      "source": [
        "## Pre-processing"
      ]
    },
    {
      "cell_type": "code",
      "execution_count": 9,
      "id": "7086a1b1",
      "metadata": {
        "id": "7086a1b1"
      },
      "outputs": [],
      "source": [
        "duplicate_rows = data[data.duplicated()]\n",
        "if not duplicate_rows.empty:\n",
        "    data = data.drop_duplicates(keep='first')"
      ]
    },
    {
      "cell_type": "code",
      "execution_count": 10,
      "id": "3ed7d072",
      "metadata": {
        "id": "3ed7d072"
      },
      "outputs": [],
      "source": [
        "data['Month 1'] = data['Month 1'].apply(lambda x: int(x.replace(' ','')) if isinstance(x, str) else x)\n",
        "data['Month 2'] = data['Month 2'].apply(lambda x: x.replace(' ','')).astype(int)\n",
        "data['Month 3'] = data['Month 3'].apply(lambda x: x.replace(' ','')).astype(int)\n",
        "data['Month 4'] = data['Month 4'].apply(lambda x: x.replace(' ','')).astype(int)"
      ]
    },
    {
      "cell_type": "code",
      "execution_count": 11,
      "id": "a202c357",
      "metadata": {
        "id": "a202c357"
      },
      "outputs": [],
      "source": [
        "data['start_date'] = data['Date'].apply(lambda x : x.split(\"-\")[0])\n",
        "data['end_date'] = data['Date'].apply(lambda x : x.split(\"-\")[1][:3])\n",
        "data['year'] = data[\"Date\"].apply(lambda x: int(x.split(\" \")[1]))"
      ]
    },
    {
      "cell_type": "code",
      "execution_count": 12,
      "id": "3a6fad6b",
      "metadata": {
        "id": "3a6fad6b"
      },
      "outputs": [],
      "source": [
        "def assign_period(month): # As str to have one-hot encoding\n",
        "    if month == 'jan':\n",
        "        return str(1)\n",
        "    elif month == 'may':\n",
        "        return str(2)\n",
        "    elif month == 'sep':\n",
        "        return str(3)\n",
        "    else:\n",
        "        return np.nan\n",
        "\n",
        "data['Period'] = data['start_date'].apply(assign_period)"
      ]
    },
    {
      "cell_type": "code",
      "execution_count": 13,
      "id": "9d3cd148",
      "metadata": {
        "id": "9d3cd148"
      },
      "outputs": [],
      "source": [
        "data['Product Life cycel status'].fillna('Active',inplace=True)\n",
        "data['Customer Persona proxy'] = data['Customer Persona proxy'].apply(lambda x: x.replace('Customer Segmentation-', ''))\n",
        "data['Product  Line proxy'] = data['Product  Line proxy'].apply(lambda x: x.replace('Product Line-', ''))\n",
        "data['Reference proxy'] = data['Reference proxy'].apply(lambda x: x.replace('reference-', ''))\n",
        "data['Division proxy'] = data['Division proxy'].apply(lambda x: x.replace('Division-', ''))\n",
        "data['Strategic Product Family proxy'] = data['Strategic Product Family proxy'].apply(lambda x: x.replace('Strategic Product Family-', ''))\n"
      ]
    },
    {
      "cell_type": "code",
      "execution_count": 14,
      "id": "VVyfmRrr8KMc",
      "metadata": {
        "id": "VVyfmRrr8KMc"
      },
      "outputs": [],
      "source": [
        "def compute_trend(previous, current, max_value=100, epsilon=1e-8):\n",
        "    trend = (current - previous) / (previous + epsilon) * 100\n",
        "    return np.clip(trend, -max_value, max_value)\n",
        "\n",
        "\n",
        "data['Trend 1'] = compute_trend(data['Month 1'], data['Month 2'])\n",
        "data['Trend 2'] = compute_trend(data['Month 2'], data['Month 3'])"
      ]
    },
    {
      "cell_type": "code",
      "execution_count": 15,
      "id": "y5aWCwMlgUGe",
      "metadata": {
        "id": "y5aWCwMlgUGe"
      },
      "outputs": [],
      "source": [
        "# Additional data\n",
        "mode_unMember = data['unMember'].mode()[0]\n",
        "data['unMember'].fillna(mode_unMember, inplace=True)\n",
        "data['unMember'] = data['unMember'].astype(int)\n",
        "data['Month 1_gscpi'] = pd.to_numeric(data['Month 1_gscpi'])\n",
        "data['Month 2_gscpi'] = pd.to_numeric(data['Month 2_gscpi'])\n",
        "data['Month 3_gscpi'] = pd.to_numeric(data['Month 3_gscpi'])\n",
        "data['Month 4_gscpi'] = pd.to_numeric(data['Month 4_gscpi'])"
      ]
    },
    {
      "cell_type": "code",
      "execution_count": 16,
      "id": "JCKtatk4u1Rz",
      "metadata": {
        "id": "JCKtatk4u1Rz"
      },
      "outputs": [
        {
          "data": {
            "text/plain": [
              "Index(['index', 'id_product', 'Region', 'Country_x', 'Site', 'Operations',\n",
              "       'Zone', 'Country', 'Reference proxy', 'Product  Line proxy',\n",
              "       'Division proxy', 'Customer Persona proxy',\n",
              "       'Strategic Product Family proxy', 'Product Life cycel status', 'Date',\n",
              "       'Month 1', 'Month 2', 'Month 3', 'Month 4', 'Month 1_gscpi',\n",
              "       'Month 2_gscpi', 'Month 3_gscpi', 'Month 4_gscpi', 'Country_y',\n",
              "       'population (2023)', 'area', 'landAreaKm', 'unMember', 'growthRate',\n",
              "       'worldPercentage', 'density', 'Year',\n",
              "       'Agriculture, forestry, and fishing, value added (annual % growth)',\n",
              "       'Exports of goods and services (annual % growth)',\n",
              "       'Final consumption expenditure (annual % growth)', 'GDP (current US$)',\n",
              "       'Gross capital formation (annual % growth)',\n",
              "       'Imports of goods and services (annual % growth)',\n",
              "       'Industry (including construction), value added (annual % growth)',\n",
              "       'Energy Price Index', 'Headline Consumer Price Index', 'start_date',\n",
              "       'end_date', 'year', 'Period', 'Trend 1', 'Trend 2'],\n",
              "      dtype='object')"
            ]
          },
          "execution_count": 16,
          "metadata": {},
          "output_type": "execute_result"
        }
      ],
      "source": [
        "data.columns"
      ]
    },
    {
      "cell_type": "code",
      "execution_count": 18,
      "id": "1b0e4522",
      "metadata": {
        "id": "1b0e4522"
      },
      "outputs": [],
      "source": [
        "data.drop(['index', 'id_product', 'Country', 'Country_x', 'Country_y', 'Region', 'Site', 'Reference proxy'], axis=1, inplace =True)"
      ]
    },
    {
      "cell_type": "code",
      "execution_count": 19,
      "id": "g58J08QNzJQS",
      "metadata": {
        "id": "g58J08QNzJQS"
      },
      "outputs": [
        {
          "name": "stdout",
          "output_type": "stream",
          "text": [
            "['Month 1', 'Month 4_gscpi', 'population (2023)', 'area', 'landAreaKm', 'growthRate', 'worldPercentage', 'density', 'Agriculture, forestry, and fishing, value added (annual % growth)', 'Exports of goods and services (annual % growth)', 'Final consumption expenditure (annual % growth)', 'GDP (current US$)', 'Gross capital formation (annual % growth)', 'Imports of goods and services (annual % growth)', 'Industry (including construction), value added (annual % growth)', 'Energy Price Index', 'Headline Consumer Price Index', 'Trend 1']\n"
          ]
        }
      ],
      "source": [
        "columns_to_impute = data.columns[data.isna().any()].tolist()\n",
        "print(columns_to_impute)\n",
        "\n",
        "imputer = {}\n",
        "for col in columns_to_impute:\n",
        "    imputer[col] = IterativeImputer(estimator=Lasso(), random_state=RANDOM_STATE)\n",
        "    data[col] = imputer[col].fit_transform(data[col].values.reshape(-1, 1))"
      ]
    },
    {
      "cell_type": "code",
      "execution_count": 21,
      "id": "Hp5jkvC_49cn",
      "metadata": {
        "id": "Hp5jkvC_49cn"
      },
      "outputs": [],
      "source": [
        "#Train Test Split\n",
        "X, y = data.drop(['Date', 'start_date', 'end_date', 'Month 4'], axis=1), data['Month 4']"
      ]
    },
    {
      "cell_type": "code",
      "execution_count": null,
      "id": "XxbpxIQj5Qry",
      "metadata": {
        "id": "XxbpxIQj5Qry"
      },
      "outputs": [],
      "source": [
        "#X_train, X_test, y_train, y_test = train_test_split(X, y, test_size=0.2, random_state=RANDOM_STATE)"
      ]
    },
    {
      "cell_type": "markdown",
      "id": "y8jGJrmB_AQ4",
      "metadata": {
        "id": "y8jGJrmB_AQ4"
      },
      "source": [
        "\n",
        "## Pre-processing"
      ]
    },
    {
      "cell_type": "code",
      "execution_count": 25,
      "id": "Q9QMQLceZZrJ",
      "metadata": {
        "id": "Q9QMQLceZZrJ"
      },
      "outputs": [],
      "source": [
        "months = [f'Month {i + 1}' for i in range(3)]\n",
        "\n",
        "categorical = X.select_dtypes(include=['object']).columns.to_list()\n",
        "continuous = X.drop(months, axis=1).select_dtypes(exclude=['object']).columns.to_list()\n",
        "\n",
        "pipe1 = ColumnTransformer(\n",
        "    [\n",
        "        ('categorical', OneHotEncoder(sparse_output=True), categorical),\n",
        "         ('continuous', StandardScaler(), continuous),\n",
        "          ('months', RobustScaler(), months)\n",
        "    ],\n",
        "    sparse_threshold=0)\n",
        "\n"
      ]
    },
    {
      "cell_type": "markdown",
      "id": "aTR7DUL6mzCT",
      "metadata": {
        "id": "aTR7DUL6mzCT"
      },
      "source": [
        "## Submission"
      ]
    },
    {
      "cell_type": "code",
      "execution_count": 27,
      "id": "QKa-GXdvlTR_",
      "metadata": {
        "id": "QKa-GXdvlTR_"
      },
      "outputs": [],
      "source": [
        "X, y = data.drop(['Date', 'start_date', 'end_date', 'Month 4'], axis=1), data['Month 4']\n",
        "\n",
        "months = [f'Month {i + 1}' for i in range(3)]\n",
        "\n",
        "categorical = X.select_dtypes(include=['object']).columns.to_list()\n",
        "continuous = X.drop(months, axis=1).select_dtypes(exclude=['object']).columns.to_list()\n",
        "\n",
        "pipe1 = ColumnTransformer(\n",
        "    [\n",
        "        ('categorical', OneHotEncoder(sparse_output=True), categorical),\n",
        "         ('continuous', StandardScaler(), continuous),\n",
        "          ('months', RobustScaler(), months)\n",
        "    ],\n",
        "    sparse_threshold=0)\n",
        "\n",
        "X = pipe1.fit_transform(X)\n",
        "\n"
      ]
    },
    {
      "cell_type": "code",
      "execution_count": 28,
      "id": "Eh-sUD91Ijd5",
      "metadata": {
        "id": "Eh-sUD91Ijd5"
      },
      "outputs": [],
      "source": [
        "data_submission = pd.read_csv('datasets_hi4/X_test.csv', delimiter=';')"
      ]
    },
    {
      "cell_type": "code",
      "execution_count": 29,
      "id": "wEHaKv6BnQTi",
      "metadata": {
        "id": "wEHaKv6BnQTi"
      },
      "outputs": [],
      "source": [
        "# ADDITIONAL DATA\n",
        "gscpi = pd.read_csv(\"datasets_hi4/extra-dataset/GSCPI_data.csv\")\n",
        "lpi = pd.read_csv(\"datasets_hi4/extra-dataset/LPIextend.csv\")\n",
        "world_bank_economics = pd.read_csv(\"datasets_hi4/extra-dataset/worldbank_economic_data.csv\")\n",
        "world_bank_inflation = pd.read_csv(\"datasets_hi4/extra-dataset/worldbank_inflation_data.csv\")\n",
        "\n",
        "data_submission['Cluster'].replace({\"USA\": \"United States\", 'Hong Kong & Macao': 'Hong Kong'}, inplace=True)\n",
        "# data_submission = data_submission.rename(columns={'Country': 'Country_index'})\n",
        "\n",
        "### adding gscpi data_submission to the main data_submissionframe\n",
        "data_submission[\"Month 1_gscpi\"] = ''\n",
        "data_submission[\"Month 2_gscpi\"] = ''\n",
        "data_submission[\"Month 3_gscpi\"] = ''\n",
        "data_submission[\"Month 4_gscpi\"] = ''\n",
        "\n",
        "data_submission.loc[data_submission[\"Date\"] == 'sep-dec 2020', \"Month 1_gscpi\"] = float(gscpi.loc[gscpi[\"Year-Month\"]==\"2020-09\", \"GSCPI\"])\n",
        "data_submission.loc[data_submission[\"Date\"] == 'sep-dec 2020', \"Month 2_gscpi\"] = float(gscpi.loc[gscpi[\"Year-Month\"]==\"2020-10\", \"GSCPI\"])\n",
        "data_submission.loc[data_submission[\"Date\"] == 'sep-dec 2020', \"Month 3_gscpi\"] = float(gscpi.loc[gscpi[\"Year-Month\"]==\"2020-11\", \"GSCPI\"])\n",
        "data_submission.loc[data_submission[\"Date\"] == 'sep-dec 2020', \"Month 4_gscpi\"] = float(gscpi.loc[gscpi[\"Year-Month\"]==\"2020-12\", \"GSCPI\"])\n",
        "\n",
        "data_submission.loc[data_submission[\"Date\"] == 'jan-apr 2021', \"Month 1_gscpi\"] = float(gscpi.loc[gscpi[\"Year-Month\"]==\"2021-01\", \"GSCPI\"])\n",
        "data_submission.loc[data_submission[\"Date\"] == 'jan-apr 2021', \"Month 2_gscpi\"] = float(gscpi.loc[gscpi[\"Year-Month\"]==\"2021-02\", \"GSCPI\"])\n",
        "data_submission.loc[data_submission[\"Date\"] == 'jan-apr 2021', \"Month 3_gscpi\"] = float(gscpi.loc[gscpi[\"Year-Month\"]==\"2021-03\", \"GSCPI\"])\n",
        "data_submission.loc[data_submission[\"Date\"] == 'jan-apr 2021', \"Month 4_gscpi\"] = float(gscpi.loc[gscpi[\"Year-Month\"]==\"2021-04\", \"GSCPI\"])\n",
        "\n",
        "data_submission.loc[data_submission[\"Date\"] == 'may-aug 2021', \"Month 1_gscpi\"] = float(gscpi.loc[gscpi[\"Year-Month\"]==\"2021-05\", \"GSCPI\"])\n",
        "data_submission.loc[data_submission[\"Date\"] == 'may-aug 2021', \"Month 2_gscpi\"] = float(gscpi.loc[gscpi[\"Year-Month\"]==\"2021-06\", \"GSCPI\"])\n",
        "data_submission.loc[data_submission[\"Date\"] == 'may-aug 2021', \"Month 3_gscpi\"] = float(gscpi.loc[gscpi[\"Year-Month\"]==\"2021-07\", \"GSCPI\"])\n",
        "data_submission.loc[data_submission[\"Date\"] == 'may-aug 2021', \"Month 4_gscpi\"] = float(gscpi.loc[gscpi[\"Year-Month\"]==\"2021-08\", \"GSCPI\"])\n",
        "\n",
        "data_submission.loc[data_submission[\"Date\"] == 'sep-dec 2021', \"Month 1_gscpi\"] = float(gscpi.loc[gscpi[\"Year-Month\"]==\"2021-09\", \"GSCPI\"])\n",
        "data_submission.loc[data_submission[\"Date\"] == 'sep-dec 2021', \"Month 2_gscpi\"] = float(gscpi.loc[gscpi[\"Year-Month\"]==\"2021-10\", \"GSCPI\"])\n",
        "data_submission.loc[data_submission[\"Date\"] == 'sep-dec 2021', \"Month 3_gscpi\"] = float(gscpi.loc[gscpi[\"Year-Month\"]==\"2021-11\", \"GSCPI\"])\n",
        "data_submission.loc[data_submission[\"Date\"] == 'sep-dec 2021', \"Month 4_gscpi\"] = float(gscpi.loc[gscpi[\"Year-Month\"]==\"2021-12\", \"GSCPI\"])\n",
        "\n",
        "data_submission.loc[data_submission[\"Date\"] == 'jan-apr 2022', \"Month 1_gscpi\"] = float(gscpi.loc[gscpi[\"Year-Month\"]==\"2022-01\", \"GSCPI\"])\n",
        "data_submission.loc[data_submission[\"Date\"] == 'jan-apr 2022', \"Month 2_gscpi\"] = float(gscpi.loc[gscpi[\"Year-Month\"]==\"2022-02\", \"GSCPI\"])\n",
        "data_submission.loc[data_submission[\"Date\"] == 'jan-apr 2022', \"Month 3_gscpi\"] = float(gscpi.loc[gscpi[\"Year-Month\"]==\"2022-03\", \"GSCPI\"])\n",
        "data_submission.loc[data_submission[\"Date\"] == 'jan-apr 2022', \"Month 4_gscpi\"] = float(gscpi.loc[gscpi[\"Year-Month\"]==\"2022-04\", \"GSCPI\"])\n",
        "\n",
        "data_submission.loc[data_submission[\"Date\"] == 'may-aug 2022', \"Month 1_gscpi\"] = float(gscpi.loc[gscpi[\"Year-Month\"]==\"2022-05\", \"GSCPI\"])\n",
        "data_submission.loc[data_submission[\"Date\"] == 'may-aug 2022', \"Month 2_gscpi\"] = float(gscpi.loc[gscpi[\"Year-Month\"]==\"2022-06\", \"GSCPI\"])\n",
        "data_submission.loc[data_submission[\"Date\"] == 'may-aug 2022', \"Month 3_gscpi\"] = float(gscpi.loc[gscpi[\"Year-Month\"]==\"2022-07\", \"GSCPI\"])\n",
        "data_submission.loc[data_submission[\"Date\"] == 'may-aug 2022', \"Month 4_gscpi\"] = float(gscpi.loc[gscpi[\"Year-Month\"]==\"2022-08\", \"GSCPI\"])\n",
        "\n",
        "data_submission.loc[data_submission[\"Date\"] == 'sep-dec 2022', \"Month 1_gscpi\"] = float(gscpi.loc[gscpi[\"Year-Month\"]==\"2022-09\", \"GSCPI\"])\n",
        "data_submission.loc[data_submission[\"Date\"] == 'sep-dec 2022', \"Month 2_gscpi\"] = float(gscpi.loc[gscpi[\"Year-Month\"]==\"2022-10\", \"GSCPI\"])\n",
        "data_submission.loc[data_submission[\"Date\"] == 'sep-dec 2022', \"Month 3_gscpi\"] = float(gscpi.loc[gscpi[\"Year-Month\"]==\"2022-11\", \"GSCPI\"])\n",
        "data_submission.loc[data_submission[\"Date\"] == 'sep-dec 2022', \"Month 4_gscpi\"] = float(gscpi.loc[gscpi[\"Year-Month\"]==\"2022-12\", \"GSCPI\"])\n",
        "\n",
        "data_submission.loc[data_submission[\"Date\"] == 'jan-apr 2023', \"Month 1_gscpi\"] = float(gscpi.loc[gscpi[\"Year-Month\"]==\"2023-01\", \"GSCPI\"])\n",
        "data_submission.loc[data_submission[\"Date\"] == 'jan-apr 2023', \"Month 2_gscpi\"] = float(gscpi.loc[gscpi[\"Year-Month\"]==\"2023-02\", \"GSCPI\"])\n",
        "data_submission.loc[data_submission[\"Date\"] == 'jan-apr 2023', \"Month 3_gscpi\"] = float(gscpi.loc[gscpi[\"Year-Month\"]==\"2023-03\", \"GSCPI\"])\n",
        "data_submission.loc[data_submission[\"Date\"] == 'jan-apr 2023', \"Month 4_gscpi\"] = float(gscpi.loc[gscpi[\"Year-Month\"]==\"2023-04\", \"GSCPI\"])\n",
        "\n",
        "data_submission.loc[data_submission[\"Date\"] == 'may-jul 2023', \"Month 1_gscpi\"] = float(gscpi.loc[gscpi[\"Year-Month\"]==\"2023-05\", \"GSCPI\"])\n",
        "data_submission.loc[data_submission[\"Date\"] == 'may-jul 2023', \"Month 2_gscpi\"] = float(gscpi.loc[gscpi[\"Year-Month\"]==\"2023-06\", \"GSCPI\"])\n",
        "data_submission.loc[data_submission[\"Date\"] == 'may-jul 2023', \"Month 3_gscpi\"] = float(gscpi.loc[gscpi[\"Year-Month\"]==\"2023-07\", \"GSCPI\"])\n",
        "\n",
        "###  adding LPIextend data_submission to the main data_submissionset\n",
        "lpi = lpi[[\"Country\", \"population (2023)\", \"area\", 'landAreaKm', 'unMember', 'growthRate', 'worldPercentage',\n",
        "          \"density\"]]\n",
        "data_submission = data_submission.merge(lpi, how='left', left_on=\"Cluster\", right_on=\"Country\")\n",
        "\n",
        "###   adding world_bank_economic data_submission to the main data_submissionset\n",
        "world_bank_economics = world_bank_economics[[\"Country\", \"Year\", \"Agriculture, forestry, and fishing, value added (annual % growth)\",\n",
        "                                            'Exports of goods and services (annual % growth)',\n",
        "                                            'Final consumption expenditure (annual % growth)',\n",
        "                                            'GDP (current US$)',\n",
        "                                            'Gross capital formation (annual % growth)',\n",
        "                                            'Imports of goods and services (annual % growth)',\n",
        "                                            'Industry (including construction), value added (annual % growth)']]\n",
        "\n",
        "world_bank_economics['Agriculture, forestry, and fishing, value added (annual % growth)'] = world_bank_economics.groupby('Country')['Agriculture, forestry, and fishing, value added (annual % growth)'].apply(lambda x: x.mask(world_bank_economics['Year'] == 2023, x[world_bank_economics['Year'] == 2022].values))\n",
        "world_bank_economics['Exports of goods and services (annual % growth)'] = world_bank_economics.groupby('Country')['Exports of goods and services (annual % growth)'].apply(lambda x: x.mask(world_bank_economics['Year'] == 2023, x[world_bank_economics['Year'] == 2022].values))\n",
        "world_bank_economics['Final consumption expenditure (annual % growth)'] = world_bank_economics.groupby('Country')['Final consumption expenditure (annual % growth)'].apply(lambda x: x.mask(world_bank_economics['Year'] == 2023, x[world_bank_economics['Year'] == 2022].values))\n",
        "world_bank_economics['GDP (current US$)'] = world_bank_economics.groupby('Country')['GDP (current US$)'].apply(lambda x: x.mask(world_bank_economics['Year'] == 2023, x[world_bank_economics['Year'] == 2022].values))\n",
        "world_bank_economics['Gross capital formation (annual % growth)'] = world_bank_economics.groupby('Country')['Gross capital formation (annual % growth)'].apply(lambda x: x.mask(world_bank_economics['Year'] == 2023, x[world_bank_economics['Year'] == 2022].values))\n",
        "world_bank_economics['Imports of goods and services (annual % growth)'] = world_bank_economics.groupby('Country')['Imports of goods and services (annual % growth)'].apply(lambda x: x.mask(world_bank_economics['Year'] == 2023, x[world_bank_economics['Year'] == 2022].values))\n",
        "world_bank_economics['Industry (including construction), value added (annual % growth)'] = world_bank_economics.groupby('Country')['Industry (including construction), value added (annual % growth)'].apply(lambda x: x.mask(world_bank_economics['Year'] == 2023, x[world_bank_economics['Year'] == 2022].values))\n",
        "\n",
        "\n",
        "data_submission['Year'] = data_submission['Date'].str.extract(r'(\\d{4})')\n",
        "\n",
        "data_submission = data_submission.rename(columns={'Cluster': 'Country'})\n",
        "\n",
        "data_submission['Year'] = data_submission['Year'].astype(int)\n",
        "\n",
        "data_submission = pd.merge(data_submission, world_bank_economics, how='left', on=['Country', 'Year'])\n",
        "\n",
        "###  adding world bank inflation to the main data_submission frame\n",
        "###  we only keep some months (one month per period date) and we do the equivalence with the appropriate\n",
        "###  date\n",
        "world_bank_inflation = world_bank_inflation.loc[(world_bank_inflation[\"Year-Month\"] == \"2020-11\") |\n",
        "                                                (world_bank_inflation[\"Year-Month\"] == \"2023-03\") |\n",
        "                                                (world_bank_inflation[\"Year-Month\"] == \"2021-07\") |\n",
        "                                                (world_bank_inflation[\"Year-Month\"] == \"2022-03\") |\n",
        "                                                (world_bank_inflation[\"Year-Month\"] == \"2021-11\") |\n",
        "                                                (world_bank_inflation[\"Year-Month\"] == \"2021-03\") |\n",
        "                                                (world_bank_inflation[\"Year-Month\"] == \"2022-11\") |\n",
        "                                                (world_bank_inflation[\"Year-Month\"] == \"2022-07\") |\n",
        "                                                (world_bank_inflation[\"Year-Month\"] == \"2023-06\")]\n",
        "\n",
        "world_bank_inflation.loc[world_bank_inflation[\"Year-Month\"] == \"2020-11\", \"Year-Month\"] = \"sep-dec 2020\"\n",
        "world_bank_inflation.loc[world_bank_inflation[\"Year-Month\"] == \"2023-03\", \"Year-Month\"] = \"jan-apr 2023\"\n",
        "world_bank_inflation.loc[world_bank_inflation[\"Year-Month\"] == \"2021-07\", \"Year-Month\"] = \"may-aug 2021\"\n",
        "world_bank_inflation.loc[world_bank_inflation[\"Year-Month\"] == \"2022-03\", \"Year-Month\"] = \"jan-apr 2022\"\n",
        "world_bank_inflation.loc[world_bank_inflation[\"Year-Month\"] == \"2021-11\", \"Year-Month\"] = \"sep-dec 2021\"\n",
        "world_bank_inflation.loc[world_bank_inflation[\"Year-Month\"] == \"2021-03\", \"Year-Month\"] = \"jan-apr 2021\"\n",
        "world_bank_inflation.loc[world_bank_inflation[\"Year-Month\"] == \"2022-11\", \"Year-Month\"] = \"sep-dec 2022\"\n",
        "world_bank_inflation.loc[world_bank_inflation[\"Year-Month\"] == \"2022-07\", \"Year-Month\"] = \"may-aug 2022\"\n",
        "world_bank_inflation.loc[world_bank_inflation[\"Year-Month\"] == \"2023-06\", \"Year-Month\"] = \"may-jul 2023\"\n",
        "\n",
        "world_bank_inflation = world_bank_inflation.rename(columns={'Year-Month': 'Date'})\n",
        "\n",
        "data_submission = pd.merge(data_submission, world_bank_inflation, how='left', on=['Country', 'Date'])"
      ]
    },
    {
      "cell_type": "code",
      "execution_count": 30,
      "id": "6S01z9iXntX5",
      "metadata": {
        "id": "6S01z9iXntX5"
      },
      "outputs": [],
      "source": [
        "data_submission[\"Month 1\"] = data_submission[\"Month 1\"].apply(lambda x: int(x.replace(\" \",\"\")) if isinstance(x, str) else x)\n",
        "data_submission[\"Month 2\"] = data_submission[\"Month 2\"].apply(lambda x: x.replace(\" \",\"\")).astype(int)\n",
        "data_submission[\"Month 3\"] = data_submission[\"Month 3\"].apply(lambda x: x.replace(\" \",\"\")).astype(int)"
      ]
    },
    {
      "cell_type": "code",
      "execution_count": 31,
      "id": "Sjxo9QIQogyw",
      "metadata": {
        "id": "Sjxo9QIQogyw"
      },
      "outputs": [],
      "source": [
        "data_submission['start_date'] = data_submission['Date'].apply(lambda x : x.split(\"-\")[0])\n",
        "data_submission['end_date'] = data_submission['Date'].apply(lambda x : x.split(\"-\")[1][:3])\n",
        "data_submission['year'] = data_submission[\"Date\"].apply(lambda x: int(x.split(\" \")[1]))"
      ]
    },
    {
      "cell_type": "code",
      "execution_count": 32,
      "id": "k0OFR3fVowxC",
      "metadata": {
        "id": "k0OFR3fVowxC"
      },
      "outputs": [],
      "source": [
        "data_submission['Period'] = data_submission['start_date'].apply(assign_period)"
      ]
    },
    {
      "cell_type": "code",
      "execution_count": 33,
      "id": "lWgsZ3Tgo1F-",
      "metadata": {
        "id": "lWgsZ3Tgo1F-"
      },
      "outputs": [],
      "source": [
        "data_submission[\"Product Life cycel status\"].fillna(\"Active\",inplace=True)\n",
        "data_submission['Customer Persona proxy'] = data_submission['Customer Persona proxy'].apply(lambda x: x.replace(\"Customer Segmentation-\", \"\"))\n",
        "data_submission['Product  Line proxy'] = data_submission['Product  Line proxy'].apply(lambda x: x.replace(\"Product Line-\", \"\"))\n",
        "data_submission['Reference proxy'] = data_submission['Reference proxy'].apply(lambda x: x.replace(\"reference-\", \"\"))\n",
        "data_submission['Division proxy'] = data_submission['Division proxy'].apply(lambda x: x.replace(\"Division-\", \"\"))\n",
        "data_submission['Strategic Product Family proxy'] = data_submission['Strategic Product Family proxy'].apply(lambda x: x.replace(\"Strategic Product Family-\", \"\"))\n"
      ]
    },
    {
      "cell_type": "code",
      "execution_count": 34,
      "id": "4D4d4EDWHTAH",
      "metadata": {
        "id": "4D4d4EDWHTAH"
      },
      "outputs": [],
      "source": [
        "data_submission['Trend 1'] = compute_trend(data_submission['Month 1'], data_submission['Month 2'])\n",
        "data_submission['Trend 2'] = compute_trend(data_submission['Month 2'], data_submission['Month 3'])"
      ]
    },
    {
      "cell_type": "code",
      "execution_count": 35,
      "id": "fVYEot62o7Id",
      "metadata": {
        "id": "fVYEot62o7Id"
      },
      "outputs": [],
      "source": [
        "# Additional data\n",
        "data_submission['unMember'].fillna(mode_unMember, inplace=True)\n",
        "data_submission['unMember'] = data_submission['unMember'].astype(int)\n",
        "data_submission['Month 1_gscpi'] = pd.to_numeric(data_submission['Month 1_gscpi'])\n",
        "data_submission['Month 2_gscpi'] = pd.to_numeric(data_submission['Month 2_gscpi'])\n",
        "data_submission['Month 3_gscpi'] = pd.to_numeric(data_submission['Month 3_gscpi'])\n",
        "data_submission['Month 4_gscpi'] = pd.to_numeric(data_submission['Month 4_gscpi'])"
      ]
    },
    {
      "cell_type": "code",
      "execution_count": 36,
      "id": "TkCVE7TzFs9j",
      "metadata": {
        "id": "TkCVE7TzFs9j"
      },
      "outputs": [],
      "source": [
        "for col in columns_to_impute:\n",
        "    if col in data_submission.columns:\n",
        "        data_submission[col] = imputer[col].transform(data_submission[col].values.reshape(-1, 1))"
      ]
    },
    {
      "cell_type": "code",
      "execution_count": 37,
      "id": "2NmoVvEh3jp0",
      "metadata": {
        "id": "2NmoVvEh3jp0"
      },
      "outputs": [
        {
          "data": {
            "text/plain": [
              "index                                                                0.000000\n",
              "id_product                                                           0.000000\n",
              "Region                                                               0.000000\n",
              "Country_x                                                            0.000000\n",
              "Site                                                                 0.000000\n",
              "Operations                                                           0.000000\n",
              "Zone                                                                 0.000000\n",
              "Country                                                              0.000000\n",
              "Reference proxy                                                      0.000000\n",
              "Product  Line proxy                                                  0.000000\n",
              "Division proxy                                                       0.000000\n",
              "Customer Persona proxy                                               0.000000\n",
              "Strategic Product Family proxy                                       0.000000\n",
              "Product Life cycel status                                            0.000000\n",
              "Date                                                                 0.000000\n",
              "Month 1                                                              0.000000\n",
              "Month 2                                                              0.000000\n",
              "Month 3                                                              0.000000\n",
              "Month 1_gscpi                                                        0.000000\n",
              "Month 2_gscpi                                                        0.000000\n",
              "Month 3_gscpi                                                        0.000000\n",
              "Month 4_gscpi                                                        0.000000\n",
              "Country_y                                                            0.083525\n",
              "population (2023)                                                    0.000000\n",
              "area                                                                 0.000000\n",
              "landAreaKm                                                           0.000000\n",
              "unMember                                                             0.000000\n",
              "growthRate                                                           0.000000\n",
              "worldPercentage                                                      0.000000\n",
              "density                                                              0.000000\n",
              "Year                                                                 0.000000\n",
              "Agriculture, forestry, and fishing, value added (annual % growth)    0.000000\n",
              "Exports of goods and services (annual % growth)                      0.000000\n",
              "Final consumption expenditure (annual % growth)                      0.000000\n",
              "GDP (current US$)                                                    0.000000\n",
              "Gross capital formation (annual % growth)                            0.000000\n",
              "Imports of goods and services (annual % growth)                      0.000000\n",
              "Industry (including construction), value added (annual % growth)     0.000000\n",
              "Energy Price Index                                                   0.000000\n",
              "Headline Consumer Price Index                                        0.000000\n",
              "start_date                                                           0.000000\n",
              "end_date                                                             0.000000\n",
              "year                                                                 0.000000\n",
              "Period                                                               0.000000\n",
              "Trend 1                                                              0.000000\n",
              "Trend 2                                                              0.000000\n",
              "dtype: float64"
            ]
          },
          "execution_count": 37,
          "metadata": {},
          "output_type": "execute_result"
        }
      ],
      "source": [
        "data_submission.isna().sum() / len(data_submission)"
      ]
    },
    {
      "cell_type": "code",
      "execution_count": 38,
      "id": "bbrMBovzpvxp",
      "metadata": {
        "id": "bbrMBovzpvxp"
      },
      "outputs": [],
      "source": [
        "X_sub_index = data_submission['index']\n",
        "data_submission.drop(['index', 'id_product', 'Country', 'Region', 'Site', 'Reference proxy'], axis=1, inplace =True)"
      ]
    },
    {
      "cell_type": "code",
      "execution_count": 39,
      "id": "UxgD68RXqKdA",
      "metadata": {
        "id": "UxgD68RXqKdA"
      },
      "outputs": [],
      "source": [
        "X_sub = pipe1.transform(data_submission)"
      ]
    },
    {
      "cell_type": "code",
      "execution_count": 40,
      "id": "rNZ88T8DlzC0",
      "metadata": {
        "id": "rNZ88T8DlzC0"
      },
      "outputs": [],
      "source": [
        "# give a csv file with the preprocessing done for the train data and data_submission data\n",
        "\n",
        "pd.DataFrame(X).to_csv('datasets_hi4/X_train_preprocessed.csv', index=False)\n",
        "pd.DataFrame(X_sub).to_csv('datasets_hi4/X_test_preprocessed.csv', index=False)"
      ]
    }
  ],
  "metadata": {
    "colab": {
      "provenance": []
    },
    "kernelspec": {
      "display_name": "Python 3",
      "name": "python3"
    },
    "language_info": {
      "codemirror_mode": {
        "name": "ipython",
        "version": 3
      },
      "file_extension": ".py",
      "mimetype": "text/x-python",
      "name": "python",
      "nbconvert_exporter": "python",
      "pygments_lexer": "ipython3",
      "version": "3.10.9"
    }
  },
  "nbformat": 4,
  "nbformat_minor": 5
}
