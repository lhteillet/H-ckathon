{
  "cells": [
    {
      "cell_type": "markdown",
      "source": [
        "## Imports"
      ],
      "metadata": {
        "id": "Swsmjqsd1CBs"
      },
      "id": "Swsmjqsd1CBs"
    },
    {
      "cell_type": "code",
      "source": [
        "!pip install catboost"
      ],
      "metadata": {
        "colab": {
          "base_uri": "https://localhost:8080/"
        },
        "id": "HoULvx2MdANn",
        "outputId": "34e47143-ce99-4efe-95af-479bc03a0cd2"
      },
      "id": "HoULvx2MdANn",
      "execution_count": 1,
      "outputs": [
        {
          "output_type": "stream",
          "name": "stdout",
          "text": [
            "Collecting catboost\n",
            "  Downloading catboost-1.2.2-cp310-cp310-manylinux2014_x86_64.whl (98.7 MB)\n",
            "\u001b[2K     \u001b[90m━━━━━━━━━━━━━━━━━━━━━━━━━━━━━━━━━━━━━━━━\u001b[0m \u001b[32m98.7/98.7 MB\u001b[0m \u001b[31m9.4 MB/s\u001b[0m eta \u001b[36m0:00:00\u001b[0m\n",
            "\u001b[?25hRequirement already satisfied: graphviz in /usr/local/lib/python3.10/dist-packages (from catboost) (0.20.1)\n",
            "Requirement already satisfied: matplotlib in /usr/local/lib/python3.10/dist-packages (from catboost) (3.7.1)\n",
            "Requirement already satisfied: numpy>=1.16.0 in /usr/local/lib/python3.10/dist-packages (from catboost) (1.23.5)\n",
            "Requirement already satisfied: pandas>=0.24 in /usr/local/lib/python3.10/dist-packages (from catboost) (1.5.3)\n",
            "Requirement already satisfied: scipy in /usr/local/lib/python3.10/dist-packages (from catboost) (1.11.4)\n",
            "Requirement already satisfied: plotly in /usr/local/lib/python3.10/dist-packages (from catboost) (5.15.0)\n",
            "Requirement already satisfied: six in /usr/local/lib/python3.10/dist-packages (from catboost) (1.16.0)\n",
            "Requirement already satisfied: python-dateutil>=2.8.1 in /usr/local/lib/python3.10/dist-packages (from pandas>=0.24->catboost) (2.8.2)\n",
            "Requirement already satisfied: pytz>=2020.1 in /usr/local/lib/python3.10/dist-packages (from pandas>=0.24->catboost) (2023.3.post1)\n",
            "Requirement already satisfied: contourpy>=1.0.1 in /usr/local/lib/python3.10/dist-packages (from matplotlib->catboost) (1.2.0)\n",
            "Requirement already satisfied: cycler>=0.10 in /usr/local/lib/python3.10/dist-packages (from matplotlib->catboost) (0.12.1)\n",
            "Requirement already satisfied: fonttools>=4.22.0 in /usr/local/lib/python3.10/dist-packages (from matplotlib->catboost) (4.45.1)\n",
            "Requirement already satisfied: kiwisolver>=1.0.1 in /usr/local/lib/python3.10/dist-packages (from matplotlib->catboost) (1.4.5)\n",
            "Requirement already satisfied: packaging>=20.0 in /usr/local/lib/python3.10/dist-packages (from matplotlib->catboost) (23.2)\n",
            "Requirement already satisfied: pillow>=6.2.0 in /usr/local/lib/python3.10/dist-packages (from matplotlib->catboost) (9.4.0)\n",
            "Requirement already satisfied: pyparsing>=2.3.1 in /usr/local/lib/python3.10/dist-packages (from matplotlib->catboost) (3.1.1)\n",
            "Requirement already satisfied: tenacity>=6.2.0 in /usr/local/lib/python3.10/dist-packages (from plotly->catboost) (8.2.3)\n",
            "Installing collected packages: catboost\n",
            "Successfully installed catboost-1.2.2\n"
          ]
        }
      ]
    },
    {
      "cell_type": "code",
      "execution_count": 2,
      "id": "cd6bb2ab",
      "metadata": {
        "id": "cd6bb2ab"
      },
      "outputs": [],
      "source": [
        "import warnings\n",
        "warnings.filterwarnings('ignore')\n",
        "\n",
        "import pandas as pd\n",
        "import numpy as np\n",
        "import matplotlib.pyplot as plt\n",
        "from catboost import CatBoostRegressor\n",
        "from lightgbm import LGBMRegressor\n",
        "from sklearn.compose import ColumnTransformer\n",
        "from sklearn.ensemble import RandomForestRegressor\n",
        "from sklearn.experimental import enable_iterative_imputer\n",
        "from sklearn.impute import IterativeImputer\n",
        "from sklearn.linear_model import ElasticNet\n",
        "from sklearn.linear_model import HuberRegressor\n",
        "from sklearn.linear_model import Lasso\n",
        "from sklearn.linear_model import LinearRegression\n",
        "from sklearn.linear_model import Ridge\n",
        "from sklearn.metrics import mean_squared_error\n",
        "from sklearn.model_selection import train_test_split\n",
        "from sklearn.preprocessing import MinMaxScaler\n",
        "from sklearn.preprocessing import OneHotEncoder\n",
        "from sklearn.preprocessing import RobustScaler\n",
        "from sklearn.preprocessing import StandardScaler\n",
        "from sklearn.svm import SVR\n",
        "from tqdm import tqdm\n",
        "from xgboost import XGBRegressor\n",
        "\n",
        "RANDOM_STATE = 42"
      ]
    },
    {
      "cell_type": "code",
      "source": [
        "try:\n",
        "    from google.colab import drive\n",
        "    drive.mount('/content/drive')\n",
        "    !cp -r drive/MyDrive/datasets_hi4 .\n",
        "    drive.flush_and_unmount()\n",
        "except:\n",
        "    pass"
      ],
      "metadata": {
        "colab": {
          "base_uri": "https://localhost:8080/"
        },
        "id": "5yVoF0g4xL1n",
        "outputId": "aeed284d-a953-4b21-8123-8350e6326c09"
      },
      "id": "5yVoF0g4xL1n",
      "execution_count": 3,
      "outputs": [
        {
          "output_type": "stream",
          "name": "stdout",
          "text": [
            "Mounted at /content/drive\n"
          ]
        }
      ]
    },
    {
      "cell_type": "markdown",
      "source": [
        "## Data Loading"
      ],
      "metadata": {
        "id": "NEXw1-rYZDik"
      },
      "id": "NEXw1-rYZDik"
    },
    {
      "cell_type": "code",
      "execution_count": 4,
      "id": "54fa681d",
      "metadata": {
        "id": "54fa681d"
      },
      "outputs": [],
      "source": [
        "data = pd.read_csv(\"datasets_hi4/train-data.csv\", sep=\";\")"
      ]
    },
    {
      "cell_type": "code",
      "source": [
        "# ADDITIONAL DATA\n",
        "gscpi = pd.read_csv(\"datasets_hi4/extra-dataset/GSCPI_data.csv\")\n",
        "lpi = pd.read_csv(\"datasets_hi4/extra-dataset/LPIextend.csv\")\n",
        "world_bank_economics = pd.read_csv(\"datasets_hi4/extra-dataset/worldbank_economic_data.csv\")\n",
        "world_bank_inflation = pd.read_csv(\"datasets_hi4/extra-dataset/worldbank_inflation_data.csv\")\n",
        "\n",
        "data['Cluster'].replace({\"USA\": \"United States\", 'Hong Kong & Macao': 'Hong Kong'}, inplace=True)\n",
        "# data = data.rename(columns={'Country': 'Country_index'})\n",
        "\n",
        "### adding gscpi data to the main dataframe\n",
        "data[\"Month 1_gscpi\"] = ''\n",
        "data[\"Month 2_gscpi\"] = ''\n",
        "data[\"Month 3_gscpi\"] = ''\n",
        "data[\"Month 4_gscpi\"] = ''\n",
        "\n",
        "data.loc[data[\"Date\"] == 'sep-dec 2020', \"Month 1_gscpi\"] = float(gscpi.loc[gscpi[\"Year-Month\"]==\"2020-09\", \"GSCPI\"])\n",
        "data.loc[data[\"Date\"] == 'sep-dec 2020', \"Month 2_gscpi\"] = float(gscpi.loc[gscpi[\"Year-Month\"]==\"2020-10\", \"GSCPI\"])\n",
        "data.loc[data[\"Date\"] == 'sep-dec 2020', \"Month 3_gscpi\"] = float(gscpi.loc[gscpi[\"Year-Month\"]==\"2020-11\", \"GSCPI\"])\n",
        "data.loc[data[\"Date\"] == 'sep-dec 2020', \"Month 4_gscpi\"] = float(gscpi.loc[gscpi[\"Year-Month\"]==\"2020-12\", \"GSCPI\"])\n",
        "\n",
        "data.loc[data[\"Date\"] == 'jan-apr 2021', \"Month 1_gscpi\"] = float(gscpi.loc[gscpi[\"Year-Month\"]==\"2021-01\", \"GSCPI\"])\n",
        "data.loc[data[\"Date\"] == 'jan-apr 2021', \"Month 2_gscpi\"] = float(gscpi.loc[gscpi[\"Year-Month\"]==\"2021-02\", \"GSCPI\"])\n",
        "data.loc[data[\"Date\"] == 'jan-apr 2021', \"Month 3_gscpi\"] = float(gscpi.loc[gscpi[\"Year-Month\"]==\"2021-03\", \"GSCPI\"])\n",
        "data.loc[data[\"Date\"] == 'jan-apr 2021', \"Month 4_gscpi\"] = float(gscpi.loc[gscpi[\"Year-Month\"]==\"2021-04\", \"GSCPI\"])\n",
        "\n",
        "data.loc[data[\"Date\"] == 'may-aug 2021', \"Month 1_gscpi\"] = float(gscpi.loc[gscpi[\"Year-Month\"]==\"2021-05\", \"GSCPI\"])\n",
        "data.loc[data[\"Date\"] == 'may-aug 2021', \"Month 2_gscpi\"] = float(gscpi.loc[gscpi[\"Year-Month\"]==\"2021-06\", \"GSCPI\"])\n",
        "data.loc[data[\"Date\"] == 'may-aug 2021', \"Month 3_gscpi\"] = float(gscpi.loc[gscpi[\"Year-Month\"]==\"2021-07\", \"GSCPI\"])\n",
        "data.loc[data[\"Date\"] == 'may-aug 2021', \"Month 4_gscpi\"] = float(gscpi.loc[gscpi[\"Year-Month\"]==\"2021-08\", \"GSCPI\"])\n",
        "\n",
        "data.loc[data[\"Date\"] == 'sep-dec 2021', \"Month 1_gscpi\"] = float(gscpi.loc[gscpi[\"Year-Month\"]==\"2021-09\", \"GSCPI\"])\n",
        "data.loc[data[\"Date\"] == 'sep-dec 2021', \"Month 2_gscpi\"] = float(gscpi.loc[gscpi[\"Year-Month\"]==\"2021-10\", \"GSCPI\"])\n",
        "data.loc[data[\"Date\"] == 'sep-dec 2021', \"Month 3_gscpi\"] = float(gscpi.loc[gscpi[\"Year-Month\"]==\"2021-11\", \"GSCPI\"])\n",
        "data.loc[data[\"Date\"] == 'sep-dec 2021', \"Month 4_gscpi\"] = float(gscpi.loc[gscpi[\"Year-Month\"]==\"2021-12\", \"GSCPI\"])\n",
        "\n",
        "data.loc[data[\"Date\"] == 'jan-apr 2022', \"Month 1_gscpi\"] = float(gscpi.loc[gscpi[\"Year-Month\"]==\"2022-01\", \"GSCPI\"])\n",
        "data.loc[data[\"Date\"] == 'jan-apr 2022', \"Month 2_gscpi\"] = float(gscpi.loc[gscpi[\"Year-Month\"]==\"2022-02\", \"GSCPI\"])\n",
        "data.loc[data[\"Date\"] == 'jan-apr 2022', \"Month 3_gscpi\"] = float(gscpi.loc[gscpi[\"Year-Month\"]==\"2022-03\", \"GSCPI\"])\n",
        "data.loc[data[\"Date\"] == 'jan-apr 2022', \"Month 4_gscpi\"] = float(gscpi.loc[gscpi[\"Year-Month\"]==\"2022-04\", \"GSCPI\"])\n",
        "\n",
        "data.loc[data[\"Date\"] == 'may-aug 2022', \"Month 1_gscpi\"] = float(gscpi.loc[gscpi[\"Year-Month\"]==\"2022-05\", \"GSCPI\"])\n",
        "data.loc[data[\"Date\"] == 'may-aug 2022', \"Month 2_gscpi\"] = float(gscpi.loc[gscpi[\"Year-Month\"]==\"2022-06\", \"GSCPI\"])\n",
        "data.loc[data[\"Date\"] == 'may-aug 2022', \"Month 3_gscpi\"] = float(gscpi.loc[gscpi[\"Year-Month\"]==\"2022-07\", \"GSCPI\"])\n",
        "data.loc[data[\"Date\"] == 'may-aug 2022', \"Month 4_gscpi\"] = float(gscpi.loc[gscpi[\"Year-Month\"]==\"2022-08\", \"GSCPI\"])\n",
        "\n",
        "data.loc[data[\"Date\"] == 'sep-dec 2022', \"Month 1_gscpi\"] = float(gscpi.loc[gscpi[\"Year-Month\"]==\"2022-09\", \"GSCPI\"])\n",
        "data.loc[data[\"Date\"] == 'sep-dec 2022', \"Month 2_gscpi\"] = float(gscpi.loc[gscpi[\"Year-Month\"]==\"2022-10\", \"GSCPI\"])\n",
        "data.loc[data[\"Date\"] == 'sep-dec 2022', \"Month 3_gscpi\"] = float(gscpi.loc[gscpi[\"Year-Month\"]==\"2022-11\", \"GSCPI\"])\n",
        "data.loc[data[\"Date\"] == 'sep-dec 2022', \"Month 4_gscpi\"] = float(gscpi.loc[gscpi[\"Year-Month\"]==\"2022-12\", \"GSCPI\"])\n",
        "\n",
        "data.loc[data[\"Date\"] == 'jan-apr 2023', \"Month 1_gscpi\"] = float(gscpi.loc[gscpi[\"Year-Month\"]==\"2023-01\", \"GSCPI\"])\n",
        "data.loc[data[\"Date\"] == 'jan-apr 2023', \"Month 2_gscpi\"] = float(gscpi.loc[gscpi[\"Year-Month\"]==\"2023-02\", \"GSCPI\"])\n",
        "data.loc[data[\"Date\"] == 'jan-apr 2023', \"Month 3_gscpi\"] = float(gscpi.loc[gscpi[\"Year-Month\"]==\"2023-03\", \"GSCPI\"])\n",
        "data.loc[data[\"Date\"] == 'jan-apr 2023', \"Month 4_gscpi\"] = float(gscpi.loc[gscpi[\"Year-Month\"]==\"2023-04\", \"GSCPI\"])\n",
        "\n",
        "data.loc[data[\"Date\"] == 'may-jul 2023', \"Month 1_gscpi\"] = float(gscpi.loc[gscpi[\"Year-Month\"]==\"2023-05\", \"GSCPI\"])\n",
        "data.loc[data[\"Date\"] == 'may-jul 2023', \"Month 2_gscpi\"] = float(gscpi.loc[gscpi[\"Year-Month\"]==\"2023-06\", \"GSCPI\"])\n",
        "data.loc[data[\"Date\"] == 'may-jul 2023', \"Month 3_gscpi\"] = float(gscpi.loc[gscpi[\"Year-Month\"]==\"2023-07\", \"GSCPI\"])\n",
        "\n",
        "###  adding LPIextend data to the main dataset\n",
        "lpi = lpi[[\"Country\", \"population (2023)\", \"area\", 'landAreaKm', 'unMember', 'growthRate', 'worldPercentage',\n",
        "          \"density\"]]\n",
        "data = data.merge(lpi, how='left', left_on=\"Cluster\", right_on=\"Country\")\n",
        "\n",
        "###   adding world_bank_economic data to the main dataset\n",
        "world_bank_economics = world_bank_economics[[\"Country\", \"Year\", \"Agriculture, forestry, and fishing, value added (annual % growth)\",\n",
        "                                            'Exports of goods and services (annual % growth)',\n",
        "                                            'Final consumption expenditure (annual % growth)',\n",
        "                                            'GDP (current US$)',\n",
        "                                            'Gross capital formation (annual % growth)',\n",
        "                                            'Imports of goods and services (annual % growth)',\n",
        "                                            'Industry (including construction), value added (annual % growth)']]\n",
        "\n",
        "world_bank_economics['Agriculture, forestry, and fishing, value added (annual % growth)'] = world_bank_economics.groupby('Country')['Agriculture, forestry, and fishing, value added (annual % growth)'].apply(lambda x: x.mask(world_bank_economics['Year'] == 2023, x[world_bank_economics['Year'] == 2022].values))\n",
        "world_bank_economics['Exports of goods and services (annual % growth)'] = world_bank_economics.groupby('Country')['Exports of goods and services (annual % growth)'].apply(lambda x: x.mask(world_bank_economics['Year'] == 2023, x[world_bank_economics['Year'] == 2022].values))\n",
        "world_bank_economics['Final consumption expenditure (annual % growth)'] = world_bank_economics.groupby('Country')['Final consumption expenditure (annual % growth)'].apply(lambda x: x.mask(world_bank_economics['Year'] == 2023, x[world_bank_economics['Year'] == 2022].values))\n",
        "world_bank_economics['GDP (current US$)'] = world_bank_economics.groupby('Country')['GDP (current US$)'].apply(lambda x: x.mask(world_bank_economics['Year'] == 2023, x[world_bank_economics['Year'] == 2022].values))\n",
        "world_bank_economics['Gross capital formation (annual % growth)'] = world_bank_economics.groupby('Country')['Gross capital formation (annual % growth)'].apply(lambda x: x.mask(world_bank_economics['Year'] == 2023, x[world_bank_economics['Year'] == 2022].values))\n",
        "world_bank_economics['Imports of goods and services (annual % growth)'] = world_bank_economics.groupby('Country')['Imports of goods and services (annual % growth)'].apply(lambda x: x.mask(world_bank_economics['Year'] == 2023, x[world_bank_economics['Year'] == 2022].values))\n",
        "world_bank_economics['Industry (including construction), value added (annual % growth)'] = world_bank_economics.groupby('Country')['Industry (including construction), value added (annual % growth)'].apply(lambda x: x.mask(world_bank_economics['Year'] == 2023, x[world_bank_economics['Year'] == 2022].values))\n",
        "\n",
        "\n",
        "data['Year'] = data['Date'].str.extract(r'(\\d{4})')\n",
        "\n",
        "data = data.rename(columns={'Cluster': 'Country'})\n",
        "\n",
        "data['Year'] = data['Year'].astype(int)\n",
        "\n",
        "data = pd.merge(data, world_bank_economics, how='left', on=['Country', 'Year'])\n",
        "\n",
        "###  adding world bank inflation to the main data frame\n",
        "###  we only keep some months (one month per period date) and we do the equivalence with the appropriate\n",
        "###  date\n",
        "world_bank_inflation = world_bank_inflation.loc[(world_bank_inflation[\"Year-Month\"] == \"2020-11\") |\n",
        "                                                (world_bank_inflation[\"Year-Month\"] == \"2023-03\") |\n",
        "                                                (world_bank_inflation[\"Year-Month\"] == \"2021-07\") |\n",
        "                                                (world_bank_inflation[\"Year-Month\"] == \"2022-03\") |\n",
        "                                                (world_bank_inflation[\"Year-Month\"] == \"2021-11\") |\n",
        "                                                (world_bank_inflation[\"Year-Month\"] == \"2021-03\") |\n",
        "                                                (world_bank_inflation[\"Year-Month\"] == \"2022-11\") |\n",
        "                                                (world_bank_inflation[\"Year-Month\"] == \"2022-07\") |\n",
        "                                                (world_bank_inflation[\"Year-Month\"] == \"2023-06\")]\n",
        "\n",
        "world_bank_inflation.loc[world_bank_inflation[\"Year-Month\"] == \"2020-11\", \"Year-Month\"] = \"sep-dec 2020\"\n",
        "world_bank_inflation.loc[world_bank_inflation[\"Year-Month\"] == \"2023-03\", \"Year-Month\"] = \"jan-apr 2023\"\n",
        "world_bank_inflation.loc[world_bank_inflation[\"Year-Month\"] == \"2021-07\", \"Year-Month\"] = \"may-aug 2021\"\n",
        "world_bank_inflation.loc[world_bank_inflation[\"Year-Month\"] == \"2022-03\", \"Year-Month\"] = \"jan-apr 2022\"\n",
        "world_bank_inflation.loc[world_bank_inflation[\"Year-Month\"] == \"2021-11\", \"Year-Month\"] = \"sep-dec 2021\"\n",
        "world_bank_inflation.loc[world_bank_inflation[\"Year-Month\"] == \"2021-03\", \"Year-Month\"] = \"jan-apr 2021\"\n",
        "world_bank_inflation.loc[world_bank_inflation[\"Year-Month\"] == \"2022-11\", \"Year-Month\"] = \"sep-dec 2022\"\n",
        "world_bank_inflation.loc[world_bank_inflation[\"Year-Month\"] == \"2022-07\", \"Year-Month\"] = \"may-aug 2022\"\n",
        "world_bank_inflation.loc[world_bank_inflation[\"Year-Month\"] == \"2023-06\", \"Year-Month\"] = \"may-jul 2023\"\n",
        "\n",
        "world_bank_inflation = world_bank_inflation.rename(columns={'Year-Month': 'Date'})\n",
        "\n",
        "data = pd.merge(data, world_bank_inflation, how='left', on=['Country', 'Date'])"
      ],
      "metadata": {
        "id": "PTY4tWxWITSn"
      },
      "id": "PTY4tWxWITSn",
      "execution_count": 5,
      "outputs": []
    },
    {
      "cell_type": "code",
      "execution_count": 6,
      "id": "f10d4048",
      "metadata": {
        "colab": {
          "base_uri": "https://localhost:8080/",
          "height": 779
        },
        "id": "f10d4048",
        "outputId": "6fb1b8fc-7fcc-468d-9f62-2d88874f0df7"
      },
      "outputs": [
        {
          "output_type": "execute_result",
          "data": {
            "text/plain": [
              "           index  id_product  Region Country_x                 Site  \\\n",
              "0         645874      156160  EUROPE        DE         NL_DC_Venray   \n",
              "1         469488      224631   CHINA        CN       CN_DC_Shanghai   \n",
              "2         348904      104047  EUROPE        GB            NL_DC_HLD   \n",
              "3        1725822       11823    EAJP        AU          AU_DC_Perth   \n",
              "4         404781      159924  EUROPE        ES            NL_DC_HLD   \n",
              "...          ...         ...     ...       ...                  ...   \n",
              "3173341  1285020       60735     NAM        US  US_DC_Mechanicsburg   \n",
              "3173342  1527076       57934     NAM        US         US_DC_Athens   \n",
              "3173343   306473       61616     NAM        US  US_DC_Mechanicsburg   \n",
              "3173344   205624      205624  EUROPE        FR         FR_DC_Evreux   \n",
              "3173345   889008      154437  EUROPE        DE         NL_DC_Venray   \n",
              "\n",
              "                       Operations            Zone         Country  \\\n",
              "0               Europe Operations            DACH         Germany   \n",
              "1                China Operations      China & HK           China   \n",
              "2               Europe Operations  UK and Ireland  United Kingdom   \n",
              "3        International Operations         Pacific       Australia   \n",
              "4               Europe Operations          Iberia           Spain   \n",
              "...                           ...             ...             ...   \n",
              "3173341  North America Operations              US   United States   \n",
              "3173342  North America Operations              US   United States   \n",
              "3173343  North America Operations              US   United States   \n",
              "3173344         France Operations          France          France   \n",
              "3173345         Europe Operations            DACH         Germany   \n",
              "\n",
              "         Reference proxy Product  Line proxy  ...  Year  \\\n",
              "0        reference-13523      Product Line-4  ...  2021   \n",
              "1        reference-12778      Product Line-4  ...  2021   \n",
              "2         reference-3513      Product Line-3  ...  2021   \n",
              "3          reference-672      Product Line-1  ...  2023   \n",
              "4         reference-3496      Product Line-3  ...  2021   \n",
              "...                  ...                 ...  ...   ...   \n",
              "3173341   reference-6024      Product Line-4  ...  2022   \n",
              "3173342   reference-5672      Product Line-4  ...  2022   \n",
              "3173343   reference-6241      Product Line-4  ...  2021   \n",
              "3173344  reference-11174      Product Line-4  ...  2020   \n",
              "3173345  reference-15885      Product Line-4  ...  2021   \n",
              "\n",
              "        Agriculture, forestry, and fishing, value added (annual % growth)  \\\n",
              "0                                                     1.61                  \n",
              "1                                                     7.07                  \n",
              "2                                                     6.19                  \n",
              "3                                                    23.40                  \n",
              "4                                                     2.07                  \n",
              "...                                                    ...                  \n",
              "3173341                                                NaN                  \n",
              "3173342                                                NaN                  \n",
              "3173343                                             -19.48                  \n",
              "3173344                                              -6.28                  \n",
              "3173345                                               1.61                  \n",
              "\n",
              "        Exports of goods and services (annual % growth)  \\\n",
              "0                                                  9.71   \n",
              "1                                                   NaN   \n",
              "2                                                  2.24   \n",
              "3                                                 -0.10   \n",
              "4                                                 14.38   \n",
              "...                                                 ...   \n",
              "3173341                                             NaN   \n",
              "3173342                                             NaN   \n",
              "3173343                                            6.05   \n",
              "3173344                                          -16.83   \n",
              "3173345                                            9.71   \n",
              "\n",
              "        Final consumption expenditure (annual % growth) GDP (current US$)  \\\n",
              "0                                                  1.44      4.259935e+12   \n",
              "1                                                  9.08      1.782046e+13   \n",
              "2                                                  7.76      3.122480e+12   \n",
              "3                                                  4.71      1.675419e+12   \n",
              "4                                                  5.09      1.427381e+12   \n",
              "...                                                 ...               ...   \n",
              "3173341                                             NaN      2.546270e+13   \n",
              "3173342                                             NaN      2.546270e+13   \n",
              "3173343                                            7.01      2.331508e+13   \n",
              "3173344                                           -5.90      2.639009e+12   \n",
              "3173345                                            1.44      4.259935e+12   \n",
              "\n",
              "        Gross capital formation (annual % growth)  \\\n",
              "0                                            3.50   \n",
              "1                                            3.87   \n",
              "2                                           13.98   \n",
              "3                                             NaN   \n",
              "4                                            5.86   \n",
              "...                                           ...   \n",
              "3173341                                       NaN   \n",
              "3173342                                       NaN   \n",
              "3173343                                      6.94   \n",
              "3173344                                     -8.66   \n",
              "3173345                                      3.50   \n",
              "\n",
              "        Imports of goods and services (annual % growth)  \\\n",
              "0                                                  9.00   \n",
              "1                                                   NaN   \n",
              "2                                                  6.19   \n",
              "3                                                  7.08   \n",
              "4                                                 13.92   \n",
              "...                                                 ...   \n",
              "3173341                                             NaN   \n",
              "3173342                                             NaN   \n",
              "3173343                                           14.13   \n",
              "3173344                                          -12.79   \n",
              "3173345                                            9.00   \n",
              "\n",
              "        Industry (including construction), value added (annual % growth)  \\\n",
              "0                                                     3.61                 \n",
              "1                                                     8.67                 \n",
              "2                                                     9.29                 \n",
              "3                                                     1.67                 \n",
              "4                                                     4.03                 \n",
              "...                                                    ...                 \n",
              "3173341                                                NaN                 \n",
              "3173342                                                NaN                 \n",
              "3173343                                               3.25                 \n",
              "3173344                                             -11.61                 \n",
              "3173345                                               3.61                 \n",
              "\n",
              "        Energy Price Index Headline Consumer Price Index  \n",
              "0                  109.501                    109.013000  \n",
              "1                  100.900                    129.473043  \n",
              "2                  106.500                    109.700000  \n",
              "3                      NaN                           NaN  \n",
              "4                  102.303                    104.900000  \n",
              "...                    ...                           ...  \n",
              "3173341            160.382                    125.000000  \n",
              "3173342            144.387                    125.600000  \n",
              "3173343            111.319                    111.800000  \n",
              "3173344            106.779                    104.700000  \n",
              "3173345            117.055                    110.173000  \n",
              "\n",
              "[3173346 rows x 41 columns]"
            ],
            "text/html": [
              "\n",
              "  <div id=\"df-4419b250-e9d0-414d-a7c3-bc922a09b814\" class=\"colab-df-container\">\n",
              "    <div>\n",
              "<style scoped>\n",
              "    .dataframe tbody tr th:only-of-type {\n",
              "        vertical-align: middle;\n",
              "    }\n",
              "\n",
              "    .dataframe tbody tr th {\n",
              "        vertical-align: top;\n",
              "    }\n",
              "\n",
              "    .dataframe thead th {\n",
              "        text-align: right;\n",
              "    }\n",
              "</style>\n",
              "<table border=\"1\" class=\"dataframe\">\n",
              "  <thead>\n",
              "    <tr style=\"text-align: right;\">\n",
              "      <th></th>\n",
              "      <th>index</th>\n",
              "      <th>id_product</th>\n",
              "      <th>Region</th>\n",
              "      <th>Country_x</th>\n",
              "      <th>Site</th>\n",
              "      <th>Operations</th>\n",
              "      <th>Zone</th>\n",
              "      <th>Country</th>\n",
              "      <th>Reference proxy</th>\n",
              "      <th>Product  Line proxy</th>\n",
              "      <th>...</th>\n",
              "      <th>Year</th>\n",
              "      <th>Agriculture, forestry, and fishing, value added (annual % growth)</th>\n",
              "      <th>Exports of goods and services (annual % growth)</th>\n",
              "      <th>Final consumption expenditure (annual % growth)</th>\n",
              "      <th>GDP (current US$)</th>\n",
              "      <th>Gross capital formation (annual % growth)</th>\n",
              "      <th>Imports of goods and services (annual % growth)</th>\n",
              "      <th>Industry (including construction), value added (annual % growth)</th>\n",
              "      <th>Energy Price Index</th>\n",
              "      <th>Headline Consumer Price Index</th>\n",
              "    </tr>\n",
              "  </thead>\n",
              "  <tbody>\n",
              "    <tr>\n",
              "      <th>0</th>\n",
              "      <td>645874</td>\n",
              "      <td>156160</td>\n",
              "      <td>EUROPE</td>\n",
              "      <td>DE</td>\n",
              "      <td>NL_DC_Venray</td>\n",
              "      <td>Europe Operations</td>\n",
              "      <td>DACH</td>\n",
              "      <td>Germany</td>\n",
              "      <td>reference-13523</td>\n",
              "      <td>Product Line-4</td>\n",
              "      <td>...</td>\n",
              "      <td>2021</td>\n",
              "      <td>1.61</td>\n",
              "      <td>9.71</td>\n",
              "      <td>1.44</td>\n",
              "      <td>4.259935e+12</td>\n",
              "      <td>3.50</td>\n",
              "      <td>9.00</td>\n",
              "      <td>3.61</td>\n",
              "      <td>109.501</td>\n",
              "      <td>109.013000</td>\n",
              "    </tr>\n",
              "    <tr>\n",
              "      <th>1</th>\n",
              "      <td>469488</td>\n",
              "      <td>224631</td>\n",
              "      <td>CHINA</td>\n",
              "      <td>CN</td>\n",
              "      <td>CN_DC_Shanghai</td>\n",
              "      <td>China Operations</td>\n",
              "      <td>China &amp; HK</td>\n",
              "      <td>China</td>\n",
              "      <td>reference-12778</td>\n",
              "      <td>Product Line-4</td>\n",
              "      <td>...</td>\n",
              "      <td>2021</td>\n",
              "      <td>7.07</td>\n",
              "      <td>NaN</td>\n",
              "      <td>9.08</td>\n",
              "      <td>1.782046e+13</td>\n",
              "      <td>3.87</td>\n",
              "      <td>NaN</td>\n",
              "      <td>8.67</td>\n",
              "      <td>100.900</td>\n",
              "      <td>129.473043</td>\n",
              "    </tr>\n",
              "    <tr>\n",
              "      <th>2</th>\n",
              "      <td>348904</td>\n",
              "      <td>104047</td>\n",
              "      <td>EUROPE</td>\n",
              "      <td>GB</td>\n",
              "      <td>NL_DC_HLD</td>\n",
              "      <td>Europe Operations</td>\n",
              "      <td>UK and Ireland</td>\n",
              "      <td>United Kingdom</td>\n",
              "      <td>reference-3513</td>\n",
              "      <td>Product Line-3</td>\n",
              "      <td>...</td>\n",
              "      <td>2021</td>\n",
              "      <td>6.19</td>\n",
              "      <td>2.24</td>\n",
              "      <td>7.76</td>\n",
              "      <td>3.122480e+12</td>\n",
              "      <td>13.98</td>\n",
              "      <td>6.19</td>\n",
              "      <td>9.29</td>\n",
              "      <td>106.500</td>\n",
              "      <td>109.700000</td>\n",
              "    </tr>\n",
              "    <tr>\n",
              "      <th>3</th>\n",
              "      <td>1725822</td>\n",
              "      <td>11823</td>\n",
              "      <td>EAJP</td>\n",
              "      <td>AU</td>\n",
              "      <td>AU_DC_Perth</td>\n",
              "      <td>International Operations</td>\n",
              "      <td>Pacific</td>\n",
              "      <td>Australia</td>\n",
              "      <td>reference-672</td>\n",
              "      <td>Product Line-1</td>\n",
              "      <td>...</td>\n",
              "      <td>2023</td>\n",
              "      <td>23.40</td>\n",
              "      <td>-0.10</td>\n",
              "      <td>4.71</td>\n",
              "      <td>1.675419e+12</td>\n",
              "      <td>NaN</td>\n",
              "      <td>7.08</td>\n",
              "      <td>1.67</td>\n",
              "      <td>NaN</td>\n",
              "      <td>NaN</td>\n",
              "    </tr>\n",
              "    <tr>\n",
              "      <th>4</th>\n",
              "      <td>404781</td>\n",
              "      <td>159924</td>\n",
              "      <td>EUROPE</td>\n",
              "      <td>ES</td>\n",
              "      <td>NL_DC_HLD</td>\n",
              "      <td>Europe Operations</td>\n",
              "      <td>Iberia</td>\n",
              "      <td>Spain</td>\n",
              "      <td>reference-3496</td>\n",
              "      <td>Product Line-3</td>\n",
              "      <td>...</td>\n",
              "      <td>2021</td>\n",
              "      <td>2.07</td>\n",
              "      <td>14.38</td>\n",
              "      <td>5.09</td>\n",
              "      <td>1.427381e+12</td>\n",
              "      <td>5.86</td>\n",
              "      <td>13.92</td>\n",
              "      <td>4.03</td>\n",
              "      <td>102.303</td>\n",
              "      <td>104.900000</td>\n",
              "    </tr>\n",
              "    <tr>\n",
              "      <th>...</th>\n",
              "      <td>...</td>\n",
              "      <td>...</td>\n",
              "      <td>...</td>\n",
              "      <td>...</td>\n",
              "      <td>...</td>\n",
              "      <td>...</td>\n",
              "      <td>...</td>\n",
              "      <td>...</td>\n",
              "      <td>...</td>\n",
              "      <td>...</td>\n",
              "      <td>...</td>\n",
              "      <td>...</td>\n",
              "      <td>...</td>\n",
              "      <td>...</td>\n",
              "      <td>...</td>\n",
              "      <td>...</td>\n",
              "      <td>...</td>\n",
              "      <td>...</td>\n",
              "      <td>...</td>\n",
              "      <td>...</td>\n",
              "      <td>...</td>\n",
              "    </tr>\n",
              "    <tr>\n",
              "      <th>3173341</th>\n",
              "      <td>1285020</td>\n",
              "      <td>60735</td>\n",
              "      <td>NAM</td>\n",
              "      <td>US</td>\n",
              "      <td>US_DC_Mechanicsburg</td>\n",
              "      <td>North America Operations</td>\n",
              "      <td>US</td>\n",
              "      <td>United States</td>\n",
              "      <td>reference-6024</td>\n",
              "      <td>Product Line-4</td>\n",
              "      <td>...</td>\n",
              "      <td>2022</td>\n",
              "      <td>NaN</td>\n",
              "      <td>NaN</td>\n",
              "      <td>NaN</td>\n",
              "      <td>2.546270e+13</td>\n",
              "      <td>NaN</td>\n",
              "      <td>NaN</td>\n",
              "      <td>NaN</td>\n",
              "      <td>160.382</td>\n",
              "      <td>125.000000</td>\n",
              "    </tr>\n",
              "    <tr>\n",
              "      <th>3173342</th>\n",
              "      <td>1527076</td>\n",
              "      <td>57934</td>\n",
              "      <td>NAM</td>\n",
              "      <td>US</td>\n",
              "      <td>US_DC_Athens</td>\n",
              "      <td>North America Operations</td>\n",
              "      <td>US</td>\n",
              "      <td>United States</td>\n",
              "      <td>reference-5672</td>\n",
              "      <td>Product Line-4</td>\n",
              "      <td>...</td>\n",
              "      <td>2022</td>\n",
              "      <td>NaN</td>\n",
              "      <td>NaN</td>\n",
              "      <td>NaN</td>\n",
              "      <td>2.546270e+13</td>\n",
              "      <td>NaN</td>\n",
              "      <td>NaN</td>\n",
              "      <td>NaN</td>\n",
              "      <td>144.387</td>\n",
              "      <td>125.600000</td>\n",
              "    </tr>\n",
              "    <tr>\n",
              "      <th>3173343</th>\n",
              "      <td>306473</td>\n",
              "      <td>61616</td>\n",
              "      <td>NAM</td>\n",
              "      <td>US</td>\n",
              "      <td>US_DC_Mechanicsburg</td>\n",
              "      <td>North America Operations</td>\n",
              "      <td>US</td>\n",
              "      <td>United States</td>\n",
              "      <td>reference-6241</td>\n",
              "      <td>Product Line-4</td>\n",
              "      <td>...</td>\n",
              "      <td>2021</td>\n",
              "      <td>-19.48</td>\n",
              "      <td>6.05</td>\n",
              "      <td>7.01</td>\n",
              "      <td>2.331508e+13</td>\n",
              "      <td>6.94</td>\n",
              "      <td>14.13</td>\n",
              "      <td>3.25</td>\n",
              "      <td>111.319</td>\n",
              "      <td>111.800000</td>\n",
              "    </tr>\n",
              "    <tr>\n",
              "      <th>3173344</th>\n",
              "      <td>205624</td>\n",
              "      <td>205624</td>\n",
              "      <td>EUROPE</td>\n",
              "      <td>FR</td>\n",
              "      <td>FR_DC_Evreux</td>\n",
              "      <td>France Operations</td>\n",
              "      <td>France</td>\n",
              "      <td>France</td>\n",
              "      <td>reference-11174</td>\n",
              "      <td>Product Line-4</td>\n",
              "      <td>...</td>\n",
              "      <td>2020</td>\n",
              "      <td>-6.28</td>\n",
              "      <td>-16.83</td>\n",
              "      <td>-5.90</td>\n",
              "      <td>2.639009e+12</td>\n",
              "      <td>-8.66</td>\n",
              "      <td>-12.79</td>\n",
              "      <td>-11.61</td>\n",
              "      <td>106.779</td>\n",
              "      <td>104.700000</td>\n",
              "    </tr>\n",
              "    <tr>\n",
              "      <th>3173345</th>\n",
              "      <td>889008</td>\n",
              "      <td>154437</td>\n",
              "      <td>EUROPE</td>\n",
              "      <td>DE</td>\n",
              "      <td>NL_DC_Venray</td>\n",
              "      <td>Europe Operations</td>\n",
              "      <td>DACH</td>\n",
              "      <td>Germany</td>\n",
              "      <td>reference-15885</td>\n",
              "      <td>Product Line-4</td>\n",
              "      <td>...</td>\n",
              "      <td>2021</td>\n",
              "      <td>1.61</td>\n",
              "      <td>9.71</td>\n",
              "      <td>1.44</td>\n",
              "      <td>4.259935e+12</td>\n",
              "      <td>3.50</td>\n",
              "      <td>9.00</td>\n",
              "      <td>3.61</td>\n",
              "      <td>117.055</td>\n",
              "      <td>110.173000</td>\n",
              "    </tr>\n",
              "  </tbody>\n",
              "</table>\n",
              "<p>3173346 rows × 41 columns</p>\n",
              "</div>\n",
              "    <div class=\"colab-df-buttons\">\n",
              "\n",
              "  <div class=\"colab-df-container\">\n",
              "    <button class=\"colab-df-convert\" onclick=\"convertToInteractive('df-4419b250-e9d0-414d-a7c3-bc922a09b814')\"\n",
              "            title=\"Convert this dataframe to an interactive table.\"\n",
              "            style=\"display:none;\">\n",
              "\n",
              "  <svg xmlns=\"http://www.w3.org/2000/svg\" height=\"24px\" viewBox=\"0 -960 960 960\">\n",
              "    <path d=\"M120-120v-720h720v720H120Zm60-500h600v-160H180v160Zm220 220h160v-160H400v160Zm0 220h160v-160H400v160ZM180-400h160v-160H180v160Zm440 0h160v-160H620v160ZM180-180h160v-160H180v160Zm440 0h160v-160H620v160Z\"/>\n",
              "  </svg>\n",
              "    </button>\n",
              "\n",
              "  <style>\n",
              "    .colab-df-container {\n",
              "      display:flex;\n",
              "      gap: 12px;\n",
              "    }\n",
              "\n",
              "    .colab-df-convert {\n",
              "      background-color: #E8F0FE;\n",
              "      border: none;\n",
              "      border-radius: 50%;\n",
              "      cursor: pointer;\n",
              "      display: none;\n",
              "      fill: #1967D2;\n",
              "      height: 32px;\n",
              "      padding: 0 0 0 0;\n",
              "      width: 32px;\n",
              "    }\n",
              "\n",
              "    .colab-df-convert:hover {\n",
              "      background-color: #E2EBFA;\n",
              "      box-shadow: 0px 1px 2px rgba(60, 64, 67, 0.3), 0px 1px 3px 1px rgba(60, 64, 67, 0.15);\n",
              "      fill: #174EA6;\n",
              "    }\n",
              "\n",
              "    .colab-df-buttons div {\n",
              "      margin-bottom: 4px;\n",
              "    }\n",
              "\n",
              "    [theme=dark] .colab-df-convert {\n",
              "      background-color: #3B4455;\n",
              "      fill: #D2E3FC;\n",
              "    }\n",
              "\n",
              "    [theme=dark] .colab-df-convert:hover {\n",
              "      background-color: #434B5C;\n",
              "      box-shadow: 0px 1px 3px 1px rgba(0, 0, 0, 0.15);\n",
              "      filter: drop-shadow(0px 1px 2px rgba(0, 0, 0, 0.3));\n",
              "      fill: #FFFFFF;\n",
              "    }\n",
              "  </style>\n",
              "\n",
              "    <script>\n",
              "      const buttonEl =\n",
              "        document.querySelector('#df-4419b250-e9d0-414d-a7c3-bc922a09b814 button.colab-df-convert');\n",
              "      buttonEl.style.display =\n",
              "        google.colab.kernel.accessAllowed ? 'block' : 'none';\n",
              "\n",
              "      async function convertToInteractive(key) {\n",
              "        const element = document.querySelector('#df-4419b250-e9d0-414d-a7c3-bc922a09b814');\n",
              "        const dataTable =\n",
              "          await google.colab.kernel.invokeFunction('convertToInteractive',\n",
              "                                                    [key], {});\n",
              "        if (!dataTable) return;\n",
              "\n",
              "        const docLinkHtml = 'Like what you see? Visit the ' +\n",
              "          '<a target=\"_blank\" href=https://colab.research.google.com/notebooks/data_table.ipynb>data table notebook</a>'\n",
              "          + ' to learn more about interactive tables.';\n",
              "        element.innerHTML = '';\n",
              "        dataTable['output_type'] = 'display_data';\n",
              "        await google.colab.output.renderOutput(dataTable, element);\n",
              "        const docLink = document.createElement('div');\n",
              "        docLink.innerHTML = docLinkHtml;\n",
              "        element.appendChild(docLink);\n",
              "      }\n",
              "    </script>\n",
              "  </div>\n",
              "\n",
              "\n",
              "<div id=\"df-e5592584-f81b-47a9-8aa9-7c942b11e8d3\">\n",
              "  <button class=\"colab-df-quickchart\" onclick=\"quickchart('df-e5592584-f81b-47a9-8aa9-7c942b11e8d3')\"\n",
              "            title=\"Suggest charts\"\n",
              "            style=\"display:none;\">\n",
              "\n",
              "<svg xmlns=\"http://www.w3.org/2000/svg\" height=\"24px\"viewBox=\"0 0 24 24\"\n",
              "     width=\"24px\">\n",
              "    <g>\n",
              "        <path d=\"M19 3H5c-1.1 0-2 .9-2 2v14c0 1.1.9 2 2 2h14c1.1 0 2-.9 2-2V5c0-1.1-.9-2-2-2zM9 17H7v-7h2v7zm4 0h-2V7h2v10zm4 0h-2v-4h2v4z\"/>\n",
              "    </g>\n",
              "</svg>\n",
              "  </button>\n",
              "\n",
              "<style>\n",
              "  .colab-df-quickchart {\n",
              "      --bg-color: #E8F0FE;\n",
              "      --fill-color: #1967D2;\n",
              "      --hover-bg-color: #E2EBFA;\n",
              "      --hover-fill-color: #174EA6;\n",
              "      --disabled-fill-color: #AAA;\n",
              "      --disabled-bg-color: #DDD;\n",
              "  }\n",
              "\n",
              "  [theme=dark] .colab-df-quickchart {\n",
              "      --bg-color: #3B4455;\n",
              "      --fill-color: #D2E3FC;\n",
              "      --hover-bg-color: #434B5C;\n",
              "      --hover-fill-color: #FFFFFF;\n",
              "      --disabled-bg-color: #3B4455;\n",
              "      --disabled-fill-color: #666;\n",
              "  }\n",
              "\n",
              "  .colab-df-quickchart {\n",
              "    background-color: var(--bg-color);\n",
              "    border: none;\n",
              "    border-radius: 50%;\n",
              "    cursor: pointer;\n",
              "    display: none;\n",
              "    fill: var(--fill-color);\n",
              "    height: 32px;\n",
              "    padding: 0;\n",
              "    width: 32px;\n",
              "  }\n",
              "\n",
              "  .colab-df-quickchart:hover {\n",
              "    background-color: var(--hover-bg-color);\n",
              "    box-shadow: 0 1px 2px rgba(60, 64, 67, 0.3), 0 1px 3px 1px rgba(60, 64, 67, 0.15);\n",
              "    fill: var(--button-hover-fill-color);\n",
              "  }\n",
              "\n",
              "  .colab-df-quickchart-complete:disabled,\n",
              "  .colab-df-quickchart-complete:disabled:hover {\n",
              "    background-color: var(--disabled-bg-color);\n",
              "    fill: var(--disabled-fill-color);\n",
              "    box-shadow: none;\n",
              "  }\n",
              "\n",
              "  .colab-df-spinner {\n",
              "    border: 2px solid var(--fill-color);\n",
              "    border-color: transparent;\n",
              "    border-bottom-color: var(--fill-color);\n",
              "    animation:\n",
              "      spin 1s steps(1) infinite;\n",
              "  }\n",
              "\n",
              "  @keyframes spin {\n",
              "    0% {\n",
              "      border-color: transparent;\n",
              "      border-bottom-color: var(--fill-color);\n",
              "      border-left-color: var(--fill-color);\n",
              "    }\n",
              "    20% {\n",
              "      border-color: transparent;\n",
              "      border-left-color: var(--fill-color);\n",
              "      border-top-color: var(--fill-color);\n",
              "    }\n",
              "    30% {\n",
              "      border-color: transparent;\n",
              "      border-left-color: var(--fill-color);\n",
              "      border-top-color: var(--fill-color);\n",
              "      border-right-color: var(--fill-color);\n",
              "    }\n",
              "    40% {\n",
              "      border-color: transparent;\n",
              "      border-right-color: var(--fill-color);\n",
              "      border-top-color: var(--fill-color);\n",
              "    }\n",
              "    60% {\n",
              "      border-color: transparent;\n",
              "      border-right-color: var(--fill-color);\n",
              "    }\n",
              "    80% {\n",
              "      border-color: transparent;\n",
              "      border-right-color: var(--fill-color);\n",
              "      border-bottom-color: var(--fill-color);\n",
              "    }\n",
              "    90% {\n",
              "      border-color: transparent;\n",
              "      border-bottom-color: var(--fill-color);\n",
              "    }\n",
              "  }\n",
              "</style>\n",
              "\n",
              "  <script>\n",
              "    async function quickchart(key) {\n",
              "      const quickchartButtonEl =\n",
              "        document.querySelector('#' + key + ' button');\n",
              "      quickchartButtonEl.disabled = true;  // To prevent multiple clicks.\n",
              "      quickchartButtonEl.classList.add('colab-df-spinner');\n",
              "      try {\n",
              "        const charts = await google.colab.kernel.invokeFunction(\n",
              "            'suggestCharts', [key], {});\n",
              "      } catch (error) {\n",
              "        console.error('Error during call to suggestCharts:', error);\n",
              "      }\n",
              "      quickchartButtonEl.classList.remove('colab-df-spinner');\n",
              "      quickchartButtonEl.classList.add('colab-df-quickchart-complete');\n",
              "    }\n",
              "    (() => {\n",
              "      let quickchartButtonEl =\n",
              "        document.querySelector('#df-e5592584-f81b-47a9-8aa9-7c942b11e8d3 button');\n",
              "      quickchartButtonEl.style.display =\n",
              "        google.colab.kernel.accessAllowed ? 'block' : 'none';\n",
              "    })();\n",
              "  </script>\n",
              "</div>\n",
              "    </div>\n",
              "  </div>\n"
            ]
          },
          "metadata": {},
          "execution_count": 6
        }
      ],
      "source": [
        "data"
      ]
    },
    {
      "cell_type": "code",
      "execution_count": 7,
      "id": "ff672941",
      "metadata": {
        "colab": {
          "base_uri": "https://localhost:8080/"
        },
        "id": "ff672941",
        "outputId": "af4d1d1b-2cd7-4311-8ae9-f1de93cbf2ff"
      },
      "outputs": [
        {
          "output_type": "execute_result",
          "data": {
            "text/plain": [
              "Index(['index', 'id_product', 'Region', 'Country_x', 'Site', 'Operations',\n",
              "       'Zone', 'Country', 'Reference proxy', 'Product  Line proxy',\n",
              "       'Division proxy', 'Customer Persona proxy',\n",
              "       'Strategic Product Family proxy', 'Product Life cycel status', 'Date',\n",
              "       'Month 1', 'Month 2', 'Month 3', 'Month 4', 'Month 1_gscpi',\n",
              "       'Month 2_gscpi', 'Month 3_gscpi', 'Month 4_gscpi', 'Country_y',\n",
              "       'population (2023)', 'area', 'landAreaKm', 'unMember', 'growthRate',\n",
              "       'worldPercentage', 'density', 'Year',\n",
              "       'Agriculture, forestry, and fishing, value added (annual % growth)',\n",
              "       'Exports of goods and services (annual % growth)',\n",
              "       'Final consumption expenditure (annual % growth)', 'GDP (current US$)',\n",
              "       'Gross capital formation (annual % growth)',\n",
              "       'Imports of goods and services (annual % growth)',\n",
              "       'Industry (including construction), value added (annual % growth)',\n",
              "       'Energy Price Index', 'Headline Consumer Price Index'],\n",
              "      dtype='object')"
            ]
          },
          "metadata": {},
          "execution_count": 7
        }
      ],
      "source": [
        "data.columns"
      ]
    },
    {
      "cell_type": "code",
      "execution_count": 8,
      "id": "cb81eb0b",
      "metadata": {
        "scrolled": true,
        "colab": {
          "base_uri": "https://localhost:8080/"
        },
        "id": "cb81eb0b",
        "outputId": "8c9d1103-9cff-4c34-cf23-2cc4cc89123a"
      },
      "outputs": [
        {
          "output_type": "stream",
          "name": "stdout",
          "text": [
            "<class 'pandas.core.frame.DataFrame'>\n",
            "Int64Index: 3173346 entries, 0 to 3173345\n",
            "Data columns (total 41 columns):\n",
            " #   Column                                                             Dtype  \n",
            "---  ------                                                             -----  \n",
            " 0   index                                                              int64  \n",
            " 1   id_product                                                         int64  \n",
            " 2   Region                                                             object \n",
            " 3   Country_x                                                          object \n",
            " 4   Site                                                               object \n",
            " 5   Operations                                                         object \n",
            " 6   Zone                                                               object \n",
            " 7   Country                                                            object \n",
            " 8   Reference proxy                                                    object \n",
            " 9   Product  Line proxy                                                object \n",
            " 10  Division proxy                                                     object \n",
            " 11  Customer Persona proxy                                             object \n",
            " 12  Strategic Product Family proxy                                     object \n",
            " 13  Product Life cycel status                                          object \n",
            " 14  Date                                                               object \n",
            " 15  Month 1                                                            object \n",
            " 16  Month 2                                                            object \n",
            " 17  Month 3                                                            object \n",
            " 18  Month 4                                                            object \n",
            " 19  Month 1_gscpi                                                      object \n",
            " 20  Month 2_gscpi                                                      object \n",
            " 21  Month 3_gscpi                                                      object \n",
            " 22  Month 4_gscpi                                                      object \n",
            " 23  Country_y                                                          object \n",
            " 24  population (2023)                                                  float64\n",
            " 25  area                                                               float64\n",
            " 26  landAreaKm                                                         float64\n",
            " 27  unMember                                                           object \n",
            " 28  growthRate                                                         float64\n",
            " 29  worldPercentage                                                    float64\n",
            " 30  density                                                            float64\n",
            " 31  Year                                                               int64  \n",
            " 32  Agriculture, forestry, and fishing, value added (annual % growth)  float64\n",
            " 33  Exports of goods and services (annual % growth)                    float64\n",
            " 34  Final consumption expenditure (annual % growth)                    float64\n",
            " 35  GDP (current US$)                                                  float64\n",
            " 36  Gross capital formation (annual % growth)                          float64\n",
            " 37  Imports of goods and services (annual % growth)                    float64\n",
            " 38  Industry (including construction), value added (annual % growth)   float64\n",
            " 39  Energy Price Index                                                 float64\n",
            " 40  Headline Consumer Price Index                                      float64\n",
            "dtypes: float64(15), int64(3), object(23)\n",
            "memory usage: 1016.8+ MB\n"
          ]
        }
      ],
      "source": [
        "data.info()"
      ]
    },
    {
      "cell_type": "code",
      "execution_count": 9,
      "id": "94b47b7f",
      "metadata": {
        "colab": {
          "base_uri": "https://localhost:8080/"
        },
        "id": "94b47b7f",
        "outputId": "12d2211d-f944-4e71-d6ae-343bd740771a"
      },
      "outputs": [
        {
          "output_type": "execute_result",
          "data": {
            "text/plain": [
              "index                                                                      0\n",
              "id_product                                                                 0\n",
              "Region                                                                     0\n",
              "Country_x                                                                  0\n",
              "Site                                                                       0\n",
              "Operations                                                                 0\n",
              "Zone                                                                       0\n",
              "Country                                                                    0\n",
              "Reference proxy                                                            0\n",
              "Product  Line proxy                                                        0\n",
              "Division proxy                                                             0\n",
              "Customer Persona proxy                                                     0\n",
              "Strategic Product Family proxy                                             0\n",
              "Product Life cycel status                                            2742544\n",
              "Date                                                                       0\n",
              "Month 1                                                               352330\n",
              "Month 2                                                                    0\n",
              "Month 3                                                                    0\n",
              "Month 4                                                                    0\n",
              "Month 1_gscpi                                                              0\n",
              "Month 2_gscpi                                                              0\n",
              "Month 3_gscpi                                                              0\n",
              "Month 4_gscpi                                                              0\n",
              "Country_y                                                             266402\n",
              "population (2023)                                                     266402\n",
              "area                                                                  266402\n",
              "landAreaKm                                                            266402\n",
              "unMember                                                              266402\n",
              "growthRate                                                            266402\n",
              "worldPercentage                                                       266402\n",
              "density                                                               266402\n",
              "Year                                                                       0\n",
              "Agriculture, forestry, and fishing, value added (annual % growth)     600893\n",
              "Exports of goods and services (annual % growth)                       891940\n",
              "Final consumption expenditure (annual % growth)                       600893\n",
              "GDP (current US$)                                                     266402\n",
              "Gross capital formation (annual % growth)                            1096605\n",
              "Imports of goods and services (annual % growth)                       891940\n",
              "Industry (including construction), value added (annual % growth)      600893\n",
              "Energy Price Index                                                   1062810\n",
              "Headline Consumer Price Index                                        1062810\n",
              "dtype: int64"
            ]
          },
          "metadata": {},
          "execution_count": 9
        }
      ],
      "source": [
        "data.isna().sum()"
      ]
    },
    {
      "cell_type": "markdown",
      "source": [
        "## Pre-processing"
      ],
      "metadata": {
        "id": "QbthT7ZWZL2M"
      },
      "id": "QbthT7ZWZL2M"
    },
    {
      "cell_type": "code",
      "execution_count": 10,
      "id": "7086a1b1",
      "metadata": {
        "id": "7086a1b1"
      },
      "outputs": [],
      "source": [
        "duplicate_rows = data[data.duplicated()]\n",
        "if not duplicate_rows.empty:\n",
        "    data = data.drop_duplicates(keep='first')"
      ]
    },
    {
      "cell_type": "code",
      "execution_count": 11,
      "id": "3ed7d072",
      "metadata": {
        "id": "3ed7d072"
      },
      "outputs": [],
      "source": [
        "data['Month 1'] = data['Month 1'].apply(lambda x: int(x.replace(' ','')) if isinstance(x, str) else x)\n",
        "data['Month 2'] = data['Month 2'].apply(lambda x: x.replace(' ','')).astype(int)\n",
        "data['Month 3'] = data['Month 3'].apply(lambda x: x.replace(' ','')).astype(int)\n",
        "data['Month 4'] = data['Month 4'].apply(lambda x: x.replace(' ','')).astype(int)"
      ]
    },
    {
      "cell_type": "code",
      "source": [
        "# def fill_month1_with_mean(row):\n",
        "#     if pd.isna(row['Month 1']):\n",
        "#         return (row['Month 2'] + row['Month 3']) // 2\n",
        "#     else:\n",
        "#         return row['Month 1']\n",
        "\n",
        "# data['Month 1'] = data.apply(fill_month1_with_mean, axis=1)\n",
        "# data['Month 1'] = data['Month 1'].astype(int)"
      ],
      "metadata": {
        "id": "HGkkSdSRoSxJ"
      },
      "id": "HGkkSdSRoSxJ",
      "execution_count": 12,
      "outputs": []
    },
    {
      "cell_type": "code",
      "source": [
        "# def fill_month1_with_closest_month(row):\n",
        "#     if pd.isna(row['Month 1']):\n",
        "#         return row['Month 2']\n",
        "#     else:\n",
        "#         return row['Month 1']\n",
        "\n",
        "# data['Month 1'] = data.apply(fill_month1_with_closest_month, axis=1)\n",
        "# data['Month 1'] = data['Month 1'].astype(int)"
      ],
      "metadata": {
        "id": "9oapNAsZONXw"
      },
      "id": "9oapNAsZONXw",
      "execution_count": 13,
      "outputs": []
    },
    {
      "cell_type": "code",
      "execution_count": 14,
      "id": "a202c357",
      "metadata": {
        "id": "a202c357"
      },
      "outputs": [],
      "source": [
        "data['start_date'] = data['Date'].apply(lambda x : x.split(\"-\")[0])\n",
        "data['end_date'] = data['Date'].apply(lambda x : x.split(\"-\")[1][:3])\n",
        "data['year'] = data[\"Date\"].apply(lambda x: int(x.split(\" \")[1]))"
      ]
    },
    {
      "cell_type": "code",
      "execution_count": 15,
      "id": "3a6fad6b",
      "metadata": {
        "id": "3a6fad6b"
      },
      "outputs": [],
      "source": [
        "def assign_period(month): # As str to have one-hot encoding\n",
        "    if month == 'jan':\n",
        "        return str(1)\n",
        "    elif month == 'may':\n",
        "        return str(2)\n",
        "    elif month == 'sep':\n",
        "        return str(3)\n",
        "    else:\n",
        "        return np.nan\n",
        "\n",
        "data['Period'] = data['start_date'].apply(assign_period)"
      ]
    },
    {
      "cell_type": "code",
      "execution_count": 16,
      "id": "9d3cd148",
      "metadata": {
        "id": "9d3cd148"
      },
      "outputs": [],
      "source": [
        "data['Product Life cycel status'].fillna('Active',inplace=True)\n",
        "data['Customer Persona proxy'] = data['Customer Persona proxy'].apply(lambda x: x.replace('Customer Segmentation-', ''))\n",
        "data['Product  Line proxy'] = data['Product  Line proxy'].apply(lambda x: x.replace('Product Line-', ''))\n",
        "data['Reference proxy'] = data['Reference proxy'].apply(lambda x: x.replace('reference-', ''))\n",
        "data['Division proxy'] = data['Division proxy'].apply(lambda x: x.replace('Division-', ''))\n",
        "data['Strategic Product Family proxy'] = data['Strategic Product Family proxy'].apply(lambda x: x.replace('Strategic Product Family-', ''))\n",
        "# data['Trend 1'] = data['Month 2'] - data['Month 1']\n",
        "# data['Trend 2'] = data['Month 3'] - data['Month 2']"
      ]
    },
    {
      "cell_type": "code",
      "source": [
        "def compute_trend(previous, current, max_value=100, epsilon=1e-8):\n",
        "    trend = (current - previous) / (previous + epsilon) * 100\n",
        "    return np.clip(trend, -max_value, max_value)\n",
        "\n",
        "# data['Trend 1'] = data[['Month 1', 'Month 2']].apply(lambda x: compute_trend(x['Month 1'], x['Month 2']), axis=1)\n",
        "# data['Trend 2'] = data[['Month 2', 'Month 3']].apply(lambda x: compute_trend(x['Month 2'], x['Month 3']), axis=1)\n",
        "data['Trend 1'] = compute_trend(data['Month 1'], data['Month 2'])\n",
        "data['Trend 2'] = compute_trend(data['Month 2'], data['Month 3'])"
      ],
      "metadata": {
        "id": "VVyfmRrr8KMc"
      },
      "id": "VVyfmRrr8KMc",
      "execution_count": 17,
      "outputs": []
    },
    {
      "cell_type": "code",
      "source": [
        "# Additional data\n",
        "mode_unMember = data['unMember'].mode()[0]\n",
        "data['unMember'].fillna(mode_unMember, inplace=True)\n",
        "data['unMember'] = data['unMember'].astype(int)\n",
        "data['Month 1_gscpi'] = pd.to_numeric(data['Month 1_gscpi'])\n",
        "data['Month 2_gscpi'] = pd.to_numeric(data['Month 2_gscpi'])\n",
        "data['Month 3_gscpi'] = pd.to_numeric(data['Month 3_gscpi'])\n",
        "data['Month 4_gscpi'] = pd.to_numeric(data['Month 4_gscpi'])"
      ],
      "metadata": {
        "id": "y5aWCwMlgUGe"
      },
      "id": "y5aWCwMlgUGe",
      "execution_count": 18,
      "outputs": []
    },
    {
      "cell_type": "code",
      "source": [
        "# # Outliers\n",
        "# data = data[(data['Month 1'] < data['Month 1'].quantile(0.99)) &\n",
        "#             (data['Month 2'] < data['Month 2'].quantile(0.99)) &\n",
        "#             (data['Month 3'] < data['Month 3'].quantile(0.99))]"
      ],
      "metadata": {
        "id": "WrBDjnQADEuL"
      },
      "id": "WrBDjnQADEuL",
      "execution_count": 19,
      "outputs": []
    },
    {
      "cell_type": "code",
      "source": [
        "data.columns"
      ],
      "metadata": {
        "colab": {
          "base_uri": "https://localhost:8080/"
        },
        "id": "JCKtatk4u1Rz",
        "outputId": "3dd6eaa5-f9e6-4bf2-933d-53d1746650cd"
      },
      "id": "JCKtatk4u1Rz",
      "execution_count": 20,
      "outputs": [
        {
          "output_type": "execute_result",
          "data": {
            "text/plain": [
              "Index(['index', 'id_product', 'Region', 'Country_x', 'Site', 'Operations',\n",
              "       'Zone', 'Country', 'Reference proxy', 'Product  Line proxy',\n",
              "       'Division proxy', 'Customer Persona proxy',\n",
              "       'Strategic Product Family proxy', 'Product Life cycel status', 'Date',\n",
              "       'Month 1', 'Month 2', 'Month 3', 'Month 4', 'Month 1_gscpi',\n",
              "       'Month 2_gscpi', 'Month 3_gscpi', 'Month 4_gscpi', 'Country_y',\n",
              "       'population (2023)', 'area', 'landAreaKm', 'unMember', 'growthRate',\n",
              "       'worldPercentage', 'density', 'Year',\n",
              "       'Agriculture, forestry, and fishing, value added (annual % growth)',\n",
              "       'Exports of goods and services (annual % growth)',\n",
              "       'Final consumption expenditure (annual % growth)', 'GDP (current US$)',\n",
              "       'Gross capital formation (annual % growth)',\n",
              "       'Imports of goods and services (annual % growth)',\n",
              "       'Industry (including construction), value added (annual % growth)',\n",
              "       'Energy Price Index', 'Headline Consumer Price Index', 'start_date',\n",
              "       'end_date', 'year', 'Period', 'Trend 1', 'Trend 2'],\n",
              "      dtype='object')"
            ]
          },
          "metadata": {},
          "execution_count": 20
        }
      ]
    },
    {
      "cell_type": "code",
      "execution_count": 21,
      "id": "1b0e4522",
      "metadata": {
        "id": "1b0e4522"
      },
      "outputs": [],
      "source": [
        "# data.drop(['index', 'id_product', 'Country', 'Region', 'Site', 'Reference proxy'], axis=1, inplace =True)\n",
        "data.drop(['index', 'id_product', 'Country', 'Country_x', 'Country_y', 'Region', 'Site', 'Reference proxy'], axis=1, inplace =True)"
      ]
    },
    {
      "cell_type": "code",
      "source": [
        "# columns_with_na = data.columns[data.isna().any()].tolist()\n",
        "\n",
        "# median = {}\n",
        "\n",
        "# for col in tqdm(columns_with_na):\n",
        "#     median[col] = data[col].median()\n",
        "#     data[col] = data[col].fillna(median[col])"
      ],
      "metadata": {
        "id": "J9tmQ7iMku1S"
      },
      "id": "J9tmQ7iMku1S",
      "execution_count": 22,
      "outputs": []
    },
    {
      "cell_type": "code",
      "source": [
        "columns_to_impute = data.columns[data.isna().any()].tolist()\n",
        "print(columns_to_impute)\n",
        "\n",
        "imputer = {}\n",
        "for col in columns_to_impute:\n",
        "    imputer[col] = IterativeImputer(estimator=Lasso(), random_state=RANDOM_STATE)\n",
        "    data[col] = imputer[col].fit_transform(data[col].values.reshape(-1, 1))"
      ],
      "metadata": {
        "colab": {
          "base_uri": "https://localhost:8080/"
        },
        "id": "g58J08QNzJQS",
        "outputId": "022141c6-6422-4678-de85-1cd84d62f6a1"
      },
      "id": "g58J08QNzJQS",
      "execution_count": 23,
      "outputs": [
        {
          "output_type": "stream",
          "name": "stdout",
          "text": [
            "['Month 1', 'Month 4_gscpi', 'population (2023)', 'area', 'landAreaKm', 'growthRate', 'worldPercentage', 'density', 'Agriculture, forestry, and fishing, value added (annual % growth)', 'Exports of goods and services (annual % growth)', 'Final consumption expenditure (annual % growth)', 'GDP (current US$)', 'Gross capital formation (annual % growth)', 'Imports of goods and services (annual % growth)', 'Industry (including construction), value added (annual % growth)', 'Energy Price Index', 'Headline Consumer Price Index', 'Trend 1']\n"
          ]
        }
      ]
    },
    {
      "cell_type": "markdown",
      "source": [
        "## Train-test split"
      ],
      "metadata": {
        "id": "8thvwyxt47ot"
      },
      "id": "8thvwyxt47ot"
    },
    {
      "cell_type": "code",
      "source": [
        "# X, y = data.drop(['Date', 'start_date', 'end_date', 'Country_x', 'Country_y', 'Month 4'], axis=1), data['Month 4']\n",
        "X, y = data.drop(['Date', 'start_date', 'end_date', 'Month 4'], axis=1), data['Month 4']"
      ],
      "metadata": {
        "id": "Hp5jkvC_49cn"
      },
      "id": "Hp5jkvC_49cn",
      "execution_count": 24,
      "outputs": []
    },
    {
      "cell_type": "code",
      "source": [
        "X_train, X_test, y_train, y_test = train_test_split(X, y, test_size=0.2, random_state=RANDOM_STATE)"
      ],
      "metadata": {
        "id": "XxbpxIQj5Qry"
      },
      "id": "XxbpxIQj5Qry",
      "execution_count": 25,
      "outputs": []
    },
    {
      "cell_type": "markdown",
      "source": [
        "\n",
        "## Pre-processing"
      ],
      "metadata": {
        "id": "y8jGJrmB_AQ4"
      },
      "id": "y8jGJrmB_AQ4"
    },
    {
      "cell_type": "code",
      "source": [
        "months = [f'Month {i + 1}' for i in range(3)]\n",
        "\n",
        "categorical = X.select_dtypes(include=['object']).columns.to_list()\n",
        "continuous = X.drop(months, axis=1).select_dtypes(exclude=['object']).columns.to_list()\n",
        "\n",
        "pipe1 = ColumnTransformer(\n",
        "    [\n",
        "        ('categorical', OneHotEncoder(sparse_output=True), categorical),\n",
        "         ('continuous', MinMaxScaler(), continuous),\n",
        "          ('months', RobustScaler(), months)\n",
        "    ],\n",
        "    sparse_threshold=0)\n",
        "\n",
        "X_train = pipe1.fit_transform(X_train)\n",
        "X_test = pipe1.transform(X_test)"
      ],
      "metadata": {
        "id": "Q9QMQLceZZrJ"
      },
      "id": "Q9QMQLceZZrJ",
      "execution_count": 26,
      "outputs": []
    },
    {
      "cell_type": "markdown",
      "source": [
        "## Modeling"
      ],
      "metadata": {
        "id": "eumiZjodWR6c"
      },
      "id": "eumiZjodWR6c"
    },
    {
      "cell_type": "code",
      "source": [
        "# Evaluation function to maximize\n",
        "def hfactory_score(y_true, y_pred):\n",
        "    score0 = mean_squared_error(y_true, [0]*len(y_true), squared=False)\n",
        "    score = mean_squared_error(y_true, y_pred, squared=False)\n",
        "    return (score0-0.8*score)/score0 * 100\n",
        "\n",
        "# Evaluate and print predictions\n",
        "def evaluate(model):\n",
        "    train_pred = model.predict(X_train)\n",
        "    test_pred = model.predict(X_test)\n",
        "\n",
        "    train_pred = np.maximum(train_pred, 0)\n",
        "    test_pred = np.maximum(test_pred, 0)\n",
        "\n",
        "    train_score = hfactory_score(y_train, train_pred)\n",
        "    test_score = hfactory_score(y_test, test_pred)\n",
        "\n",
        "    print(f'train={train_score:.2f}, val={test_score:.2f}')\n",
        "\n",
        "    min_val = min(\n",
        "        np.min(y_train), np.min(train_pred), np.min(y_test), np.min(test_pred)\n",
        "    )\n",
        "    max_val = max(\n",
        "        np.max(y_train), np.max(train_pred), np.max(y_test), np.max(test_pred)\n",
        "    )\n",
        "\n",
        "    fig, ax = plt.subplots(1, 2, figsize=(14, 6))\n",
        "\n",
        "    ax[0].scatter(y_train, train_pred, alpha=0.6)\n",
        "    ax[0].plot([min_val, max_val], [min_val, max_val], \"r--\")\n",
        "    ax[0].set_title(\"Training Data: True vs. Predicted\")\n",
        "    ax[0].set_xlabel(\"True\")\n",
        "    ax[0].set_ylabel(\"Predicted\")\n",
        "    ax[0].grid(True)\n",
        "\n",
        "    ax[1].scatter(y_test, test_pred, alpha=0.6)\n",
        "    ax[1].plot([min_val, max_val], [min_val, max_val], \"r--\")\n",
        "    ax[1].set_title(\"Test Data: True vs. Predicted\")\n",
        "    ax[1].set_xlabel(\"True\")\n",
        "    ax[1].set_ylabel(\"Predicted\")\n",
        "    ax[1].grid(True)\n",
        "\n",
        "    plt.tight_layout()\n",
        "    plt.show()"
      ],
      "metadata": {
        "id": "QHkgoLrKAL7Z"
      },
      "id": "QHkgoLrKAL7Z",
      "execution_count": 27,
      "outputs": []
    },
    {
      "cell_type": "markdown",
      "source": [
        "## Linear Regression"
      ],
      "metadata": {
        "id": "pRF-tFK6RKee"
      },
      "id": "pRF-tFK6RKee"
    },
    {
      "cell_type": "code",
      "source": [
        "# lr = LinearRegression().fit(X_train, y_train)\n",
        "# evaluate(lr)"
      ],
      "metadata": {
        "id": "0xsZnR8qRMXH"
      },
      "id": "0xsZnR8qRMXH",
      "execution_count": 28,
      "outputs": []
    },
    {
      "cell_type": "markdown",
      "source": [
        "## Ridge"
      ],
      "metadata": {
        "id": "eRi1i6zgNdDm"
      },
      "id": "eRi1i6zgNdDm"
    },
    {
      "cell_type": "code",
      "source": [
        "# ridge = Ridge().fit(X_train, y_train)\n",
        "# evaluate(ridge)"
      ],
      "metadata": {
        "id": "Y1rA00bXNbsg"
      },
      "id": "Y1rA00bXNbsg",
      "execution_count": 29,
      "outputs": []
    },
    {
      "cell_type": "markdown",
      "source": [
        "## Lasso"
      ],
      "metadata": {
        "id": "3FPaBaAG_iF7"
      },
      "id": "3FPaBaAG_iF7"
    },
    {
      "cell_type": "code",
      "source": [
        "# lasso = Lasso().fit(X_train, y_train)\n",
        "# evaluate(lasso)"
      ],
      "metadata": {
        "id": "50F8_F8s_b_h"
      },
      "id": "50F8_F8s_b_h",
      "execution_count": 30,
      "outputs": []
    },
    {
      "cell_type": "markdown",
      "source": [
        "## ElasticNet"
      ],
      "metadata": {
        "id": "qlRqvedk7gbl"
      },
      "id": "qlRqvedk7gbl"
    },
    {
      "cell_type": "code",
      "source": [
        "# eln = ElasticNet().fit(X_train, y_train)\n",
        "# evaluate(eln)"
      ],
      "metadata": {
        "id": "9bTUI-jC7i6U"
      },
      "id": "9bTUI-jC7i6U",
      "execution_count": 31,
      "outputs": []
    },
    {
      "cell_type": "markdown",
      "source": [
        "## Huber"
      ],
      "metadata": {
        "id": "cwMiIxaINdvA"
      },
      "id": "cwMiIxaINdvA"
    },
    {
      "cell_type": "code",
      "source": [
        "# huber = HuberRegressor().fit(X_train, y_train)\n",
        "# evaluate(huber)"
      ],
      "metadata": {
        "id": "sXkxNttgNdOA"
      },
      "id": "sXkxNttgNdOA",
      "execution_count": 32,
      "outputs": []
    },
    {
      "cell_type": "markdown",
      "source": [
        "## SVR"
      ],
      "metadata": {
        "id": "V47QvmtZOWgL"
      },
      "id": "V47QvmtZOWgL"
    },
    {
      "cell_type": "code",
      "source": [
        "# svr = SVR(kernel='linear').fit(X_train, y_train)\n",
        "# evaluate(svr)"
      ],
      "metadata": {
        "id": "Q_t9wM7nOV9d"
      },
      "id": "Q_t9wM7nOV9d",
      "execution_count": 33,
      "outputs": []
    },
    {
      "cell_type": "markdown",
      "source": [
        "## Random Forest"
      ],
      "metadata": {
        "id": "b9IRB08SVyLh"
      },
      "id": "b9IRB08SVyLh"
    },
    {
      "cell_type": "code",
      "source": [
        "# rf = RandomForestRegressor(n_estimators=20, random_state=RANDOM_STATE).fit(X_train, y_train)\n",
        "# evaluate(rf)"
      ],
      "metadata": {
        "id": "JHEBmBA4Vxsn"
      },
      "id": "JHEBmBA4Vxsn",
      "execution_count": 34,
      "outputs": []
    },
    {
      "cell_type": "markdown",
      "source": [
        "## XGBoost"
      ],
      "metadata": {
        "id": "L0Xa4Xp-Hk7O"
      },
      "id": "L0Xa4Xp-Hk7O"
    },
    {
      "cell_type": "code",
      "source": [
        "xgb = XGBRegressor(n_estimators=200, alphac=10, max_depth=5, learning_rate=0.1, random_state=RANDOM_STATE).fit(X_train, y_train)\n",
        "evaluate(xgb)"
      ],
      "metadata": {
        "id": "w1izOnxoHVFR",
        "colab": {
          "base_uri": "https://localhost:8080/",
          "height": 490
        },
        "outputId": "6c807a82-85d8-4a1c-c054-78bff3d17b91"
      },
      "id": "w1izOnxoHVFR",
      "execution_count": 35,
      "outputs": [
        {
          "output_type": "stream",
          "name": "stdout",
          "text": [
            "train=65.58, val=42.49\n"
          ]
        },
        {
          "output_type": "display_data",
          "data": {
            "text/plain": [
              "<Figure size 1400x600 with 2 Axes>"
            ],
            "image/png": "[encoded data removed]"
          },
          "metadata": {}
        }
      ]
    },
    {
      "cell_type": "markdown",
      "source": [
        "## LightGBM"
      ],
      "metadata": {
        "id": "wX2mK7Bkcf_F"
      },
      "id": "wX2mK7Bkcf_F"
    },
    {
      "cell_type": "code",
      "source": [
        "# lgbm = LGBMRegressor(random_state=RANDOM_STATE).fit(X_train, y_train)\n",
        "# evaluate(lgbm)"
      ],
      "metadata": {
        "id": "f2DmGHY3cLP5"
      },
      "id": "f2DmGHY3cLP5",
      "execution_count": 36,
      "outputs": []
    },
    {
      "cell_type": "markdown",
      "source": [
        "## CatBoost"
      ],
      "metadata": {
        "id": "S4462IHLcj0C"
      },
      "id": "S4462IHLcj0C"
    },
    {
      "cell_type": "code",
      "source": [
        "# cat = CatBoostRegressor(random_state=RANDOM_STATE).fit(X_train, y_train)\n",
        "# evaluate(cat)"
      ],
      "metadata": {
        "id": "aqIjE_sicMCp"
      },
      "id": "aqIjE_sicMCp",
      "execution_count": 37,
      "outputs": []
    },
    {
      "cell_type": "markdown",
      "source": [
        "## Submission"
      ],
      "metadata": {
        "id": "aTR7DUL6mzCT"
      },
      "id": "aTR7DUL6mzCT"
    },
    {
      "cell_type": "code",
      "source": [
        "X, y = data.drop(['Date', 'start_date', 'end_date', 'Month 4'], axis=1), data['Month 4']\n",
        "\n",
        "months = [f'Month {i + 1}' for i in range(3)]\n",
        "\n",
        "categorical = X.select_dtypes(include=['object']).columns.to_list()\n",
        "continuous = X.drop(months, axis=1).select_dtypes(exclude=['object']).columns.to_list()\n",
        "\n",
        "pipe1 = ColumnTransformer(\n",
        "    [\n",
        "        ('categorical', OneHotEncoder(sparse_output=True), categorical),\n",
        "         ('continuous', StandardScaler(), continuous),\n",
        "          ('months', RobustScaler(), months)\n",
        "    ],\n",
        "    sparse_threshold=0)\n",
        "\n",
        "X = pipe1.fit_transform(X)\n",
        "\n",
        "model = XGBRegressor(n_estimators=200, alphac=10, max_depth=5, learning_rate=0.1, random_state=RANDOM_STATE).fit(X, y)\n",
        "pred = model.predict(X)\n",
        "mean_squared_error(y, pred, squared=False)"
      ],
      "metadata": {
        "colab": {
          "base_uri": "https://localhost:8080/"
        },
        "id": "QKa-GXdvlTR_",
        "outputId": "b1c75f8e-525e-4c9a-f25e-cfb58735c970"
      },
      "id": "QKa-GXdvlTR_",
      "execution_count": 38,
      "outputs": [
        {
          "output_type": "execute_result",
          "data": {
            "text/plain": [
              "303.7978969135932"
            ]
          },
          "metadata": {},
          "execution_count": 38
        }
      ]
    },
    {
      "cell_type": "code",
      "source": [
        "data_submission = pd.read_csv('datasets_hi4/X_test.csv', delimiter=';')"
      ],
      "metadata": {
        "id": "Eh-sUD91Ijd5"
      },
      "id": "Eh-sUD91Ijd5",
      "execution_count": 39,
      "outputs": []
    },
    {
      "cell_type": "code",
      "source": [
        "# ADDITIONAL DATA\n",
        "gscpi = pd.read_csv(\"datasets_hi4/extra-dataset/GSCPI_data.csv\")\n",
        "lpi = pd.read_csv(\"datasets_hi4/extra-dataset/LPIextend.csv\")\n",
        "world_bank_economics = pd.read_csv(\"datasets_hi4/extra-dataset/worldbank_economic_data.csv\")\n",
        "world_bank_inflation = pd.read_csv(\"datasets_hi4/extra-dataset/worldbank_inflation_data.csv\")\n",
        "\n",
        "data_submission['Cluster'].replace({\"USA\": \"United States\", 'Hong Kong & Macao': 'Hong Kong'}, inplace=True)\n",
        "# data_submission = data_submission.rename(columns={'Country': 'Country_index'})\n",
        "\n",
        "### adding gscpi data_submission to the main data_submissionframe\n",
        "data_submission[\"Month 1_gscpi\"] = ''\n",
        "data_submission[\"Month 2_gscpi\"] = ''\n",
        "data_submission[\"Month 3_gscpi\"] = ''\n",
        "data_submission[\"Month 4_gscpi\"] = ''\n",
        "\n",
        "data_submission.loc[data_submission[\"Date\"] == 'sep-dec 2020', \"Month 1_gscpi\"] = float(gscpi.loc[gscpi[\"Year-Month\"]==\"2020-09\", \"GSCPI\"])\n",
        "data_submission.loc[data_submission[\"Date\"] == 'sep-dec 2020', \"Month 2_gscpi\"] = float(gscpi.loc[gscpi[\"Year-Month\"]==\"2020-10\", \"GSCPI\"])\n",
        "data_submission.loc[data_submission[\"Date\"] == 'sep-dec 2020', \"Month 3_gscpi\"] = float(gscpi.loc[gscpi[\"Year-Month\"]==\"2020-11\", \"GSCPI\"])\n",
        "data_submission.loc[data_submission[\"Date\"] == 'sep-dec 2020', \"Month 4_gscpi\"] = float(gscpi.loc[gscpi[\"Year-Month\"]==\"2020-12\", \"GSCPI\"])\n",
        "\n",
        "data_submission.loc[data_submission[\"Date\"] == 'jan-apr 2021', \"Month 1_gscpi\"] = float(gscpi.loc[gscpi[\"Year-Month\"]==\"2021-01\", \"GSCPI\"])\n",
        "data_submission.loc[data_submission[\"Date\"] == 'jan-apr 2021', \"Month 2_gscpi\"] = float(gscpi.loc[gscpi[\"Year-Month\"]==\"2021-02\", \"GSCPI\"])\n",
        "data_submission.loc[data_submission[\"Date\"] == 'jan-apr 2021', \"Month 3_gscpi\"] = float(gscpi.loc[gscpi[\"Year-Month\"]==\"2021-03\", \"GSCPI\"])\n",
        "data_submission.loc[data_submission[\"Date\"] == 'jan-apr 2021', \"Month 4_gscpi\"] = float(gscpi.loc[gscpi[\"Year-Month\"]==\"2021-04\", \"GSCPI\"])\n",
        "\n",
        "data_submission.loc[data_submission[\"Date\"] == 'may-aug 2021', \"Month 1_gscpi\"] = float(gscpi.loc[gscpi[\"Year-Month\"]==\"2021-05\", \"GSCPI\"])\n",
        "data_submission.loc[data_submission[\"Date\"] == 'may-aug 2021', \"Month 2_gscpi\"] = float(gscpi.loc[gscpi[\"Year-Month\"]==\"2021-06\", \"GSCPI\"])\n",
        "data_submission.loc[data_submission[\"Date\"] == 'may-aug 2021', \"Month 3_gscpi\"] = float(gscpi.loc[gscpi[\"Year-Month\"]==\"2021-07\", \"GSCPI\"])\n",
        "data_submission.loc[data_submission[\"Date\"] == 'may-aug 2021', \"Month 4_gscpi\"] = float(gscpi.loc[gscpi[\"Year-Month\"]==\"2021-08\", \"GSCPI\"])\n",
        "\n",
        "data_submission.loc[data_submission[\"Date\"] == 'sep-dec 2021', \"Month 1_gscpi\"] = float(gscpi.loc[gscpi[\"Year-Month\"]==\"2021-09\", \"GSCPI\"])\n",
        "data_submission.loc[data_submission[\"Date\"] == 'sep-dec 2021', \"Month 2_gscpi\"] = float(gscpi.loc[gscpi[\"Year-Month\"]==\"2021-10\", \"GSCPI\"])\n",
        "data_submission.loc[data_submission[\"Date\"] == 'sep-dec 2021', \"Month 3_gscpi\"] = float(gscpi.loc[gscpi[\"Year-Month\"]==\"2021-11\", \"GSCPI\"])\n",
        "data_submission.loc[data_submission[\"Date\"] == 'sep-dec 2021', \"Month 4_gscpi\"] = float(gscpi.loc[gscpi[\"Year-Month\"]==\"2021-12\", \"GSCPI\"])\n",
        "\n",
        "data_submission.loc[data_submission[\"Date\"] == 'jan-apr 2022', \"Month 1_gscpi\"] = float(gscpi.loc[gscpi[\"Year-Month\"]==\"2022-01\", \"GSCPI\"])\n",
        "data_submission.loc[data_submission[\"Date\"] == 'jan-apr 2022', \"Month 2_gscpi\"] = float(gscpi.loc[gscpi[\"Year-Month\"]==\"2022-02\", \"GSCPI\"])\n",
        "data_submission.loc[data_submission[\"Date\"] == 'jan-apr 2022', \"Month 3_gscpi\"] = float(gscpi.loc[gscpi[\"Year-Month\"]==\"2022-03\", \"GSCPI\"])\n",
        "data_submission.loc[data_submission[\"Date\"] == 'jan-apr 2022', \"Month 4_gscpi\"] = float(gscpi.loc[gscpi[\"Year-Month\"]==\"2022-04\", \"GSCPI\"])\n",
        "\n",
        "data_submission.loc[data_submission[\"Date\"] == 'may-aug 2022', \"Month 1_gscpi\"] = float(gscpi.loc[gscpi[\"Year-Month\"]==\"2022-05\", \"GSCPI\"])\n",
        "data_submission.loc[data_submission[\"Date\"] == 'may-aug 2022', \"Month 2_gscpi\"] = float(gscpi.loc[gscpi[\"Year-Month\"]==\"2022-06\", \"GSCPI\"])\n",
        "data_submission.loc[data_submission[\"Date\"] == 'may-aug 2022', \"Month 3_gscpi\"] = float(gscpi.loc[gscpi[\"Year-Month\"]==\"2022-07\", \"GSCPI\"])\n",
        "data_submission.loc[data_submission[\"Date\"] == 'may-aug 2022', \"Month 4_gscpi\"] = float(gscpi.loc[gscpi[\"Year-Month\"]==\"2022-08\", \"GSCPI\"])\n",
        "\n",
        "data_submission.loc[data_submission[\"Date\"] == 'sep-dec 2022', \"Month 1_gscpi\"] = float(gscpi.loc[gscpi[\"Year-Month\"]==\"2022-09\", \"GSCPI\"])\n",
        "data_submission.loc[data_submission[\"Date\"] == 'sep-dec 2022', \"Month 2_gscpi\"] = float(gscpi.loc[gscpi[\"Year-Month\"]==\"2022-10\", \"GSCPI\"])\n",
        "data_submission.loc[data_submission[\"Date\"] == 'sep-dec 2022', \"Month 3_gscpi\"] = float(gscpi.loc[gscpi[\"Year-Month\"]==\"2022-11\", \"GSCPI\"])\n",
        "data_submission.loc[data_submission[\"Date\"] == 'sep-dec 2022', \"Month 4_gscpi\"] = float(gscpi.loc[gscpi[\"Year-Month\"]==\"2022-12\", \"GSCPI\"])\n",
        "\n",
        "data_submission.loc[data_submission[\"Date\"] == 'jan-apr 2023', \"Month 1_gscpi\"] = float(gscpi.loc[gscpi[\"Year-Month\"]==\"2023-01\", \"GSCPI\"])\n",
        "data_submission.loc[data_submission[\"Date\"] == 'jan-apr 2023', \"Month 2_gscpi\"] = float(gscpi.loc[gscpi[\"Year-Month\"]==\"2023-02\", \"GSCPI\"])\n",
        "data_submission.loc[data_submission[\"Date\"] == 'jan-apr 2023', \"Month 3_gscpi\"] = float(gscpi.loc[gscpi[\"Year-Month\"]==\"2023-03\", \"GSCPI\"])\n",
        "data_submission.loc[data_submission[\"Date\"] == 'jan-apr 2023', \"Month 4_gscpi\"] = float(gscpi.loc[gscpi[\"Year-Month\"]==\"2023-04\", \"GSCPI\"])\n",
        "\n",
        "data_submission.loc[data_submission[\"Date\"] == 'may-jul 2023', \"Month 1_gscpi\"] = float(gscpi.loc[gscpi[\"Year-Month\"]==\"2023-05\", \"GSCPI\"])\n",
        "data_submission.loc[data_submission[\"Date\"] == 'may-jul 2023', \"Month 2_gscpi\"] = float(gscpi.loc[gscpi[\"Year-Month\"]==\"2023-06\", \"GSCPI\"])\n",
        "data_submission.loc[data_submission[\"Date\"] == 'may-jul 2023', \"Month 3_gscpi\"] = float(gscpi.loc[gscpi[\"Year-Month\"]==\"2023-07\", \"GSCPI\"])\n",
        "\n",
        "###  adding LPIextend data_submission to the main data_submissionset\n",
        "lpi = lpi[[\"Country\", \"population (2023)\", \"area\", 'landAreaKm', 'unMember', 'growthRate', 'worldPercentage',\n",
        "          \"density\"]]\n",
        "data_submission = data_submission.merge(lpi, how='left', left_on=\"Cluster\", right_on=\"Country\")\n",
        "\n",
        "###   adding world_bank_economic data_submission to the main data_submissionset\n",
        "world_bank_economics = world_bank_economics[[\"Country\", \"Year\", \"Agriculture, forestry, and fishing, value added (annual % growth)\",\n",
        "                                            'Exports of goods and services (annual % growth)',\n",
        "                                            'Final consumption expenditure (annual % growth)',\n",
        "                                            'GDP (current US$)',\n",
        "                                            'Gross capital formation (annual % growth)',\n",
        "                                            'Imports of goods and services (annual % growth)',\n",
        "                                            'Industry (including construction), value added (annual % growth)']]\n",
        "\n",
        "world_bank_economics['Agriculture, forestry, and fishing, value added (annual % growth)'] = world_bank_economics.groupby('Country')['Agriculture, forestry, and fishing, value added (annual % growth)'].apply(lambda x: x.mask(world_bank_economics['Year'] == 2023, x[world_bank_economics['Year'] == 2022].values))\n",
        "world_bank_economics['Exports of goods and services (annual % growth)'] = world_bank_economics.groupby('Country')['Exports of goods and services (annual % growth)'].apply(lambda x: x.mask(world_bank_economics['Year'] == 2023, x[world_bank_economics['Year'] == 2022].values))\n",
        "world_bank_economics['Final consumption expenditure (annual % growth)'] = world_bank_economics.groupby('Country')['Final consumption expenditure (annual % growth)'].apply(lambda x: x.mask(world_bank_economics['Year'] == 2023, x[world_bank_economics['Year'] == 2022].values))\n",
        "world_bank_economics['GDP (current US$)'] = world_bank_economics.groupby('Country')['GDP (current US$)'].apply(lambda x: x.mask(world_bank_economics['Year'] == 2023, x[world_bank_economics['Year'] == 2022].values))\n",
        "world_bank_economics['Gross capital formation (annual % growth)'] = world_bank_economics.groupby('Country')['Gross capital formation (annual % growth)'].apply(lambda x: x.mask(world_bank_economics['Year'] == 2023, x[world_bank_economics['Year'] == 2022].values))\n",
        "world_bank_economics['Imports of goods and services (annual % growth)'] = world_bank_economics.groupby('Country')['Imports of goods and services (annual % growth)'].apply(lambda x: x.mask(world_bank_economics['Year'] == 2023, x[world_bank_economics['Year'] == 2022].values))\n",
        "world_bank_economics['Industry (including construction), value added (annual % growth)'] = world_bank_economics.groupby('Country')['Industry (including construction), value added (annual % growth)'].apply(lambda x: x.mask(world_bank_economics['Year'] == 2023, x[world_bank_economics['Year'] == 2022].values))\n",
        "\n",
        "\n",
        "data_submission['Year'] = data_submission['Date'].str.extract(r'(\\d{4})')\n",
        "\n",
        "data_submission = data_submission.rename(columns={'Cluster': 'Country'})\n",
        "\n",
        "data_submission['Year'] = data_submission['Year'].astype(int)\n",
        "\n",
        "data_submission = pd.merge(data_submission, world_bank_economics, how='left', on=['Country', 'Year'])\n",
        "\n",
        "###  adding world bank inflation to the main data_submission frame\n",
        "###  we only keep some months (one month per period date) and we do the equivalence with the appropriate\n",
        "###  date\n",
        "world_bank_inflation = world_bank_inflation.loc[(world_bank_inflation[\"Year-Month\"] == \"2020-11\") |\n",
        "                                                (world_bank_inflation[\"Year-Month\"] == \"2023-03\") |\n",
        "                                                (world_bank_inflation[\"Year-Month\"] == \"2021-07\") |\n",
        "                                                (world_bank_inflation[\"Year-Month\"] == \"2022-03\") |\n",
        "                                                (world_bank_inflation[\"Year-Month\"] == \"2021-11\") |\n",
        "                                                (world_bank_inflation[\"Year-Month\"] == \"2021-03\") |\n",
        "                                                (world_bank_inflation[\"Year-Month\"] == \"2022-11\") |\n",
        "                                                (world_bank_inflation[\"Year-Month\"] == \"2022-07\") |\n",
        "                                                (world_bank_inflation[\"Year-Month\"] == \"2023-06\")]\n",
        "\n",
        "world_bank_inflation.loc[world_bank_inflation[\"Year-Month\"] == \"2020-11\", \"Year-Month\"] = \"sep-dec 2020\"\n",
        "world_bank_inflation.loc[world_bank_inflation[\"Year-Month\"] == \"2023-03\", \"Year-Month\"] = \"jan-apr 2023\"\n",
        "world_bank_inflation.loc[world_bank_inflation[\"Year-Month\"] == \"2021-07\", \"Year-Month\"] = \"may-aug 2021\"\n",
        "world_bank_inflation.loc[world_bank_inflation[\"Year-Month\"] == \"2022-03\", \"Year-Month\"] = \"jan-apr 2022\"\n",
        "world_bank_inflation.loc[world_bank_inflation[\"Year-Month\"] == \"2021-11\", \"Year-Month\"] = \"sep-dec 2021\"\n",
        "world_bank_inflation.loc[world_bank_inflation[\"Year-Month\"] == \"2021-03\", \"Year-Month\"] = \"jan-apr 2021\"\n",
        "world_bank_inflation.loc[world_bank_inflation[\"Year-Month\"] == \"2022-11\", \"Year-Month\"] = \"sep-dec 2022\"\n",
        "world_bank_inflation.loc[world_bank_inflation[\"Year-Month\"] == \"2022-07\", \"Year-Month\"] = \"may-aug 2022\"\n",
        "world_bank_inflation.loc[world_bank_inflation[\"Year-Month\"] == \"2023-06\", \"Year-Month\"] = \"may-jul 2023\"\n",
        "\n",
        "world_bank_inflation = world_bank_inflation.rename(columns={'Year-Month': 'Date'})\n",
        "\n",
        "data_submission = pd.merge(data_submission, world_bank_inflation, how='left', on=['Country', 'Date'])"
      ],
      "metadata": {
        "id": "wEHaKv6BnQTi"
      },
      "id": "wEHaKv6BnQTi",
      "execution_count": 40,
      "outputs": []
    },
    {
      "cell_type": "code",
      "source": [
        "data_submission[\"Month 1\"] = data_submission[\"Month 1\"].apply(lambda x: int(x.replace(\" \",\"\")) if isinstance(x, str) else x)\n",
        "data_submission[\"Month 2\"] = data_submission[\"Month 2\"].apply(lambda x: x.replace(\" \",\"\")).astype(int)\n",
        "data_submission[\"Month 3\"] = data_submission[\"Month 3\"].apply(lambda x: x.replace(\" \",\"\")).astype(int)"
      ],
      "metadata": {
        "id": "6S01z9iXntX5"
      },
      "id": "6S01z9iXntX5",
      "execution_count": 41,
      "outputs": []
    },
    {
      "cell_type": "code",
      "source": [
        "# data_submission['Month 1'] = data_submission.apply(fill_month1_with_closest_month, axis=1)\n",
        "# data_submission['Month 1'] = data_submission['Month 1'].astype(int)"
      ],
      "metadata": {
        "id": "eBeENsfVodNQ"
      },
      "id": "eBeENsfVodNQ",
      "execution_count": 42,
      "outputs": []
    },
    {
      "cell_type": "code",
      "source": [
        "data_submission['start_date'] = data_submission['Date'].apply(lambda x : x.split(\"-\")[0])\n",
        "data_submission['end_date'] = data_submission['Date'].apply(lambda x : x.split(\"-\")[1][:3])\n",
        "data_submission['year'] = data_submission[\"Date\"].apply(lambda x: int(x.split(\" \")[1]))"
      ],
      "metadata": {
        "id": "Sjxo9QIQogyw"
      },
      "id": "Sjxo9QIQogyw",
      "execution_count": 43,
      "outputs": []
    },
    {
      "cell_type": "code",
      "source": [
        "data_submission['Period'] = data_submission['start_date'].apply(assign_period)"
      ],
      "metadata": {
        "id": "k0OFR3fVowxC"
      },
      "id": "k0OFR3fVowxC",
      "execution_count": 44,
      "outputs": []
    },
    {
      "cell_type": "code",
      "source": [
        "data_submission[\"Product Life cycel status\"].fillna(\"Active\",inplace=True)\n",
        "data_submission['Customer Persona proxy'] = data_submission['Customer Persona proxy'].apply(lambda x: x.replace(\"Customer Segmentation-\", \"\"))\n",
        "data_submission['Product  Line proxy'] = data_submission['Product  Line proxy'].apply(lambda x: x.replace(\"Product Line-\", \"\"))\n",
        "data_submission['Reference proxy'] = data_submission['Reference proxy'].apply(lambda x: x.replace(\"reference-\", \"\"))\n",
        "data_submission['Division proxy'] = data_submission['Division proxy'].apply(lambda x: x.replace(\"Division-\", \"\"))\n",
        "data_submission['Strategic Product Family proxy'] = data_submission['Strategic Product Family proxy'].apply(lambda x: x.replace(\"Strategic Product Family-\", \"\"))\n",
        "# data_submission['Trend 1'] = data_submission['Month 2'] - data_submission['Month 1']\n",
        "# data_submission['Trend 2'] = data_submission['Month 3'] - data_submission['Month 2']"
      ],
      "metadata": {
        "id": "lWgsZ3Tgo1F-"
      },
      "id": "lWgsZ3Tgo1F-",
      "execution_count": 45,
      "outputs": []
    },
    {
      "cell_type": "code",
      "source": [
        "data_submission['Trend 1'] = compute_trend(data_submission['Month 1'], data_submission['Month 2'])\n",
        "data_submission['Trend 2'] = compute_trend(data_submission['Month 2'], data_submission['Month 3'])"
      ],
      "metadata": {
        "id": "4D4d4EDWHTAH"
      },
      "id": "4D4d4EDWHTAH",
      "execution_count": 46,
      "outputs": []
    },
    {
      "cell_type": "code",
      "source": [
        "# Additional data\n",
        "data_submission['unMember'].fillna(mode_unMember, inplace=True)\n",
        "data_submission['unMember'] = data_submission['unMember'].astype(int)\n",
        "data_submission['Month 1_gscpi'] = pd.to_numeric(data_submission['Month 1_gscpi'])\n",
        "data_submission['Month 2_gscpi'] = pd.to_numeric(data_submission['Month 2_gscpi'])\n",
        "data_submission['Month 3_gscpi'] = pd.to_numeric(data_submission['Month 3_gscpi'])\n",
        "data_submission['Month 4_gscpi'] = pd.to_numeric(data_submission['Month 4_gscpi'])"
      ],
      "metadata": {
        "id": "fVYEot62o7Id"
      },
      "id": "fVYEot62o7Id",
      "execution_count": 47,
      "outputs": []
    },
    {
      "cell_type": "code",
      "source": [
        "# columns_with_na = data_submission.columns[data_submission.isna().any()].tolist()\n",
        "\n",
        "# for col in tqdm(columns_with_na):\n",
        "#     data_submission[col] = data_submission[col].fillna(median[col])"
      ],
      "metadata": {
        "id": "MyNdI5s8pWFq"
      },
      "id": "MyNdI5s8pWFq",
      "execution_count": 48,
      "outputs": []
    },
    {
      "cell_type": "code",
      "source": [
        "for col in columns_to_impute:\n",
        "    if col in data_submission.columns:\n",
        "        data_submission[col] = imputer[col].transform(data_submission[col].values.reshape(-1, 1))"
      ],
      "metadata": {
        "id": "TkCVE7TzFs9j"
      },
      "id": "TkCVE7TzFs9j",
      "execution_count": 49,
      "outputs": []
    },
    {
      "cell_type": "code",
      "source": [
        "data_submission.isna().sum() / len(data_submission)"
      ],
      "metadata": {
        "colab": {
          "base_uri": "https://localhost:8080/"
        },
        "id": "2NmoVvEh3jp0",
        "outputId": "6fe7b43c-6cf4-40d6-f770-d2aef6e0fdbc"
      },
      "id": "2NmoVvEh3jp0",
      "execution_count": 50,
      "outputs": [
        {
          "output_type": "execute_result",
          "data": {
            "text/plain": [
              "index                                                                0.000000\n",
              "id_product                                                           0.000000\n",
              "Region                                                               0.000000\n",
              "Country_x                                                            0.000000\n",
              "Site                                                                 0.000000\n",
              "Operations                                                           0.000000\n",
              "Zone                                                                 0.000000\n",
              "Country                                                              0.000000\n",
              "Reference proxy                                                      0.000000\n",
              "Product  Line proxy                                                  0.000000\n",
              "Division proxy                                                       0.000000\n",
              "Customer Persona proxy                                               0.000000\n",
              "Strategic Product Family proxy                                       0.000000\n",
              "Product Life cycel status                                            0.000000\n",
              "Date                                                                 0.000000\n",
              "Month 1                                                              0.000000\n",
              "Month 2                                                              0.000000\n",
              "Month 3                                                              0.000000\n",
              "Month 1_gscpi                                                        0.000000\n",
              "Month 2_gscpi                                                        0.000000\n",
              "Month 3_gscpi                                                        0.000000\n",
              "Month 4_gscpi                                                        0.000000\n",
              "Country_y                                                            0.083525\n",
              "population (2023)                                                    0.000000\n",
              "area                                                                 0.000000\n",
              "landAreaKm                                                           0.000000\n",
              "unMember                                                             0.000000\n",
              "growthRate                                                           0.000000\n",
              "worldPercentage                                                      0.000000\n",
              "density                                                              0.000000\n",
              "Year                                                                 0.000000\n",
              "Agriculture, forestry, and fishing, value added (annual % growth)    0.000000\n",
              "Exports of goods and services (annual % growth)                      0.000000\n",
              "Final consumption expenditure (annual % growth)                      0.000000\n",
              "GDP (current US$)                                                    0.000000\n",
              "Gross capital formation (annual % growth)                            0.000000\n",
              "Imports of goods and services (annual % growth)                      0.000000\n",
              "Industry (including construction), value added (annual % growth)     0.000000\n",
              "Energy Price Index                                                   0.000000\n",
              "Headline Consumer Price Index                                        0.000000\n",
              "start_date                                                           0.000000\n",
              "end_date                                                             0.000000\n",
              "year                                                                 0.000000\n",
              "Period                                                               0.000000\n",
              "Trend 1                                                              0.000000\n",
              "Trend 2                                                              0.000000\n",
              "dtype: float64"
            ]
          },
          "metadata": {},
          "execution_count": 50
        }
      ]
    },
    {
      "cell_type": "code",
      "source": [
        "X_sub_index = data_submission['index']\n",
        "data_submission.drop(['index', 'id_product', 'Country', 'Region', 'Site', 'Reference proxy'], axis=1, inplace =True)"
      ],
      "metadata": {
        "id": "bbrMBovzpvxp"
      },
      "id": "bbrMBovzpvxp",
      "execution_count": 51,
      "outputs": []
    },
    {
      "cell_type": "code",
      "source": [
        "X_sub = pipe1.transform(data_submission)"
      ],
      "metadata": {
        "id": "UxgD68RXqKdA"
      },
      "id": "UxgD68RXqKdA",
      "execution_count": 52,
      "outputs": []
    },
    {
      "cell_type": "code",
      "source": [
        "### USE THE RIGHT MODEL HERE\n",
        "y_pred = model.predict(X_sub)\n",
        "y_pred = np.maximum(y_pred, 0)"
      ],
      "metadata": {
        "id": "xYMijDAvqULN"
      },
      "id": "xYMijDAvqULN",
      "execution_count": 54,
      "outputs": []
    },
    {
      "cell_type": "code",
      "source": [
        "submission = pd.DataFrame({'index': X_sub_index, 'Month 4': y_pred})\n",
        "submission"
      ],
      "metadata": {
        "colab": {
          "base_uri": "https://localhost:8080/",
          "height": 419
        },
        "id": "6fLsfhAbsziX",
        "outputId": "a6074120-bf44-465c-d90c-aaa386abcb06"
      },
      "id": "6fLsfhAbsziX",
      "execution_count": 55,
      "outputs": [
        {
          "output_type": "execute_result",
          "data": {
            "text/plain": [
              "          index      Month 4\n",
              "0        490548  6355.229492\n",
              "1       2167957     1.685212\n",
              "2       1999013     2.662157\n",
              "3        469221   102.299965\n",
              "4       1171716     1.075302\n",
              "...         ...          ...\n",
              "440738   849490     1.075302\n",
              "440739  1199858     2.020471\n",
              "440740  1007643     1.239462\n",
              "440741  1647728     1.075302\n",
              "440742   181981     1.075302\n",
              "\n",
              "[440743 rows x 2 columns]"
            ],
            "text/html": [
              "\n",
              "  <div id=\"df-7e10217a-845f-4ed4-b471-e997d96c7d22\" class=\"colab-df-container\">\n",
              "    <div>\n",
              "<style scoped>\n",
              "    .dataframe tbody tr th:only-of-type {\n",
              "        vertical-align: middle;\n",
              "    }\n",
              "\n",
              "    .dataframe tbody tr th {\n",
              "        vertical-align: top;\n",
              "    }\n",
              "\n",
              "    .dataframe thead th {\n",
              "        text-align: right;\n",
              "    }\n",
              "</style>\n",
              "<table border=\"1\" class=\"dataframe\">\n",
              "  <thead>\n",
              "    <tr style=\"text-align: right;\">\n",
              "      <th></th>\n",
              "      <th>index</th>\n",
              "      <th>Month 4</th>\n",
              "    </tr>\n",
              "  </thead>\n",
              "  <tbody>\n",
              "    <tr>\n",
              "      <th>0</th>\n",
              "      <td>490548</td>\n",
              "      <td>6355.229492</td>\n",
              "    </tr>\n",
              "    <tr>\n",
              "      <th>1</th>\n",
              "      <td>2167957</td>\n",
              "      <td>1.685212</td>\n",
              "    </tr>\n",
              "    <tr>\n",
              "      <th>2</th>\n",
              "      <td>1999013</td>\n",
              "      <td>2.662157</td>\n",
              "    </tr>\n",
              "    <tr>\n",
              "      <th>3</th>\n",
              "      <td>469221</td>\n",
              "      <td>102.299965</td>\n",
              "    </tr>\n",
              "    <tr>\n",
              "      <th>4</th>\n",
              "      <td>1171716</td>\n",
              "      <td>1.075302</td>\n",
              "    </tr>\n",
              "    <tr>\n",
              "      <th>...</th>\n",
              "      <td>...</td>\n",
              "      <td>...</td>\n",
              "    </tr>\n",
              "    <tr>\n",
              "      <th>440738</th>\n",
              "      <td>849490</td>\n",
              "      <td>1.075302</td>\n",
              "    </tr>\n",
              "    <tr>\n",
              "      <th>440739</th>\n",
              "      <td>1199858</td>\n",
              "      <td>2.020471</td>\n",
              "    </tr>\n",
              "    <tr>\n",
              "      <th>440740</th>\n",
              "      <td>1007643</td>\n",
              "      <td>1.239462</td>\n",
              "    </tr>\n",
              "    <tr>\n",
              "      <th>440741</th>\n",
              "      <td>1647728</td>\n",
              "      <td>1.075302</td>\n",
              "    </tr>\n",
              "    <tr>\n",
              "      <th>440742</th>\n",
              "      <td>181981</td>\n",
              "      <td>1.075302</td>\n",
              "    </tr>\n",
              "  </tbody>\n",
              "</table>\n",
              "<p>440743 rows × 2 columns</p>\n",
              "</div>\n",
              "    <div class=\"colab-df-buttons\">\n",
              "\n",
              "  <div class=\"colab-df-container\">\n",
              "    <button class=\"colab-df-convert\" onclick=\"convertToInteractive('df-7e10217a-845f-4ed4-b471-e997d96c7d22')\"\n",
              "            title=\"Convert this dataframe to an interactive table.\"\n",
              "            style=\"display:none;\">\n",
              "\n",
              "  <svg xmlns=\"http://www.w3.org/2000/svg\" height=\"24px\" viewBox=\"0 -960 960 960\">\n",
              "    <path d=\"M120-120v-720h720v720H120Zm60-500h600v-160H180v160Zm220 220h160v-160H400v160Zm0 220h160v-160H400v160ZM180-400h160v-160H180v160Zm440 0h160v-160H620v160ZM180-180h160v-160H180v160Zm440 0h160v-160H620v160Z\"/>\n",
              "  </svg>\n",
              "    </button>\n",
              "\n",
              "  <style>\n",
              "    .colab-df-container {\n",
              "      display:flex;\n",
              "      gap: 12px;\n",
              "    }\n",
              "\n",
              "    .colab-df-convert {\n",
              "      background-color: #E8F0FE;\n",
              "      border: none;\n",
              "      border-radius: 50%;\n",
              "      cursor: pointer;\n",
              "      display: none;\n",
              "      fill: #1967D2;\n",
              "      height: 32px;\n",
              "      padding: 0 0 0 0;\n",
              "      width: 32px;\n",
              "    }\n",
              "\n",
              "    .colab-df-convert:hover {\n",
              "      background-color: #E2EBFA;\n",
              "      box-shadow: 0px 1px 2px rgba(60, 64, 67, 0.3), 0px 1px 3px 1px rgba(60, 64, 67, 0.15);\n",
              "      fill: #174EA6;\n",
              "    }\n",
              "\n",
              "    .colab-df-buttons div {\n",
              "      margin-bottom: 4px;\n",
              "    }\n",
              "\n",
              "    [theme=dark] .colab-df-convert {\n",
              "      background-color: #3B4455;\n",
              "      fill: #D2E3FC;\n",
              "    }\n",
              "\n",
              "    [theme=dark] .colab-df-convert:hover {\n",
              "      background-color: #434B5C;\n",
              "      box-shadow: 0px 1px 3px 1px rgba(0, 0, 0, 0.15);\n",
              "      filter: drop-shadow(0px 1px 2px rgba(0, 0, 0, 0.3));\n",
              "      fill: #FFFFFF;\n",
              "    }\n",
              "  </style>\n",
              "\n",
              "    <script>\n",
              "      const buttonEl =\n",
              "        document.querySelector('#df-7e10217a-845f-4ed4-b471-e997d96c7d22 button.colab-df-convert');\n",
              "      buttonEl.style.display =\n",
              "        google.colab.kernel.accessAllowed ? 'block' : 'none';\n",
              "\n",
              "      async function convertToInteractive(key) {\n",
              "        const element = document.querySelector('#df-7e10217a-845f-4ed4-b471-e997d96c7d22');\n",
              "        const dataTable =\n",
              "          await google.colab.kernel.invokeFunction('convertToInteractive',\n",
              "                                                    [key], {});\n",
              "        if (!dataTable) return;\n",
              "\n",
              "        const docLinkHtml = 'Like what you see? Visit the ' +\n",
              "          '<a target=\"_blank\" href=https://colab.research.google.com/notebooks/data_table.ipynb>data table notebook</a>'\n",
              "          + ' to learn more about interactive tables.';\n",
              "        element.innerHTML = '';\n",
              "        dataTable['output_type'] = 'display_data';\n",
              "        await google.colab.output.renderOutput(dataTable, element);\n",
              "        const docLink = document.createElement('div');\n",
              "        docLink.innerHTML = docLinkHtml;\n",
              "        element.appendChild(docLink);\n",
              "      }\n",
              "    </script>\n",
              "  </div>\n",
              "\n",
              "\n",
              "<div id=\"df-9a6f1413-bca8-40f8-93a6-1837adbc0955\">\n",
              "  <button class=\"colab-df-quickchart\" onclick=\"quickchart('df-9a6f1413-bca8-40f8-93a6-1837adbc0955')\"\n",
              "            title=\"Suggest charts\"\n",
              "            style=\"display:none;\">\n",
              "\n",
              "<svg xmlns=\"http://www.w3.org/2000/svg\" height=\"24px\"viewBox=\"0 0 24 24\"\n",
              "     width=\"24px\">\n",
              "    <g>\n",
              "        <path d=\"M19 3H5c-1.1 0-2 .9-2 2v14c0 1.1.9 2 2 2h14c1.1 0 2-.9 2-2V5c0-1.1-.9-2-2-2zM9 17H7v-7h2v7zm4 0h-2V7h2v10zm4 0h-2v-4h2v4z\"/>\n",
              "    </g>\n",
              "</svg>\n",
              "  </button>\n",
              "\n",
              "<style>\n",
              "  .colab-df-quickchart {\n",
              "      --bg-color: #E8F0FE;\n",
              "      --fill-color: #1967D2;\n",
              "      --hover-bg-color: #E2EBFA;\n",
              "      --hover-fill-color: #174EA6;\n",
              "      --disabled-fill-color: #AAA;\n",
              "      --disabled-bg-color: #DDD;\n",
              "  }\n",
              "\n",
              "  [theme=dark] .colab-df-quickchart {\n",
              "      --bg-color: #3B4455;\n",
              "      --fill-color: #D2E3FC;\n",
              "      --hover-bg-color: #434B5C;\n",
              "      --hover-fill-color: #FFFFFF;\n",
              "      --disabled-bg-color: #3B4455;\n",
              "      --disabled-fill-color: #666;\n",
              "  }\n",
              "\n",
              "  .colab-df-quickchart {\n",
              "    background-color: var(--bg-color);\n",
              "    border: none;\n",
              "    border-radius: 50%;\n",
              "    cursor: pointer;\n",
              "    display: none;\n",
              "    fill: var(--fill-color);\n",
              "    height: 32px;\n",
              "    padding: 0;\n",
              "    width: 32px;\n",
              "  }\n",
              "\n",
              "  .colab-df-quickchart:hover {\n",
              "    background-color: var(--hover-bg-color);\n",
              "    box-shadow: 0 1px 2px rgba(60, 64, 67, 0.3), 0 1px 3px 1px rgba(60, 64, 67, 0.15);\n",
              "    fill: var(--button-hover-fill-color);\n",
              "  }\n",
              "\n",
              "  .colab-df-quickchart-complete:disabled,\n",
              "  .colab-df-quickchart-complete:disabled:hover {\n",
              "    background-color: var(--disabled-bg-color);\n",
              "    fill: var(--disabled-fill-color);\n",
              "    box-shadow: none;\n",
              "  }\n",
              "\n",
              "  .colab-df-spinner {\n",
              "    border: 2px solid var(--fill-color);\n",
              "    border-color: transparent;\n",
              "    border-bottom-color: var(--fill-color);\n",
              "    animation:\n",
              "      spin 1s steps(1) infinite;\n",
              "  }\n",
              "\n",
              "  @keyframes spin {\n",
              "    0% {\n",
              "      border-color: transparent;\n",
              "      border-bottom-color: var(--fill-color);\n",
              "      border-left-color: var(--fill-color);\n",
              "    }\n",
              "    20% {\n",
              "      border-color: transparent;\n",
              "      border-left-color: var(--fill-color);\n",
              "      border-top-color: var(--fill-color);\n",
              "    }\n",
              "    30% {\n",
              "      border-color: transparent;\n",
              "      border-left-color: var(--fill-color);\n",
              "      border-top-color: var(--fill-color);\n",
              "      border-right-color: var(--fill-color);\n",
              "    }\n",
              "    40% {\n",
              "      border-color: transparent;\n",
              "      border-right-color: var(--fill-color);\n",
              "      border-top-color: var(--fill-color);\n",
              "    }\n",
              "    60% {\n",
              "      border-color: transparent;\n",
              "      border-right-color: var(--fill-color);\n",
              "    }\n",
              "    80% {\n",
              "      border-color: transparent;\n",
              "      border-right-color: var(--fill-color);\n",
              "      border-bottom-color: var(--fill-color);\n",
              "    }\n",
              "    90% {\n",
              "      border-color: transparent;\n",
              "      border-bottom-color: var(--fill-color);\n",
              "    }\n",
              "  }\n",
              "</style>\n",
              "\n",
              "  <script>\n",
              "    async function quickchart(key) {\n",
              "      const quickchartButtonEl =\n",
              "        document.querySelector('#' + key + ' button');\n",
              "      quickchartButtonEl.disabled = true;  // To prevent multiple clicks.\n",
              "      quickchartButtonEl.classList.add('colab-df-spinner');\n",
              "      try {\n",
              "        const charts = await google.colab.kernel.invokeFunction(\n",
              "            'suggestCharts', [key], {});\n",
              "      } catch (error) {\n",
              "        console.error('Error during call to suggestCharts:', error);\n",
              "      }\n",
              "      quickchartButtonEl.classList.remove('colab-df-spinner');\n",
              "      quickchartButtonEl.classList.add('colab-df-quickchart-complete');\n",
              "    }\n",
              "    (() => {\n",
              "      let quickchartButtonEl =\n",
              "        document.querySelector('#df-9a6f1413-bca8-40f8-93a6-1837adbc0955 button');\n",
              "      quickchartButtonEl.style.display =\n",
              "        google.colab.kernel.accessAllowed ? 'block' : 'none';\n",
              "    })();\n",
              "  </script>\n",
              "</div>\n",
              "    </div>\n",
              "  </div>\n"
            ]
          },
          "metadata": {},
          "execution_count": 55
        }
      ]
    },
    {
      "cell_type": "code",
      "source": [
        "submission.to_csv('hackathon_team_17.csv', sep=';', index=False)"
      ],
      "metadata": {
        "id": "ShHxvoK5s-H6"
      },
      "id": "ShHxvoK5s-H6",
      "execution_count": 56,
      "outputs": []
    }
  ],
  "metadata": {
    "kernelspec": {
      "display_name": "Python 3",
      "name": "python3"
    },
    "language_info": {
      "codemirror_mode": {
        "name": "ipython",
        "version": 3
      },
      "file_extension": ".py",
      "mimetype": "text/x-python",
      "name": "python",
      "nbconvert_exporter": "python",
      "pygments_lexer": "ipython3",
      "version": "3.11.5"
    },
    "colab": {
      "provenance": []
    }
  },
  "nbformat": 4,
  "nbformat_minor": 5
}